{
 "metadata": {
  "language_info": {
   "codemirror_mode": {
    "name": "ipython",
    "version": 3
   },
   "file_extension": ".py",
   "mimetype": "text/x-python",
   "name": "python",
   "nbconvert_exporter": "python",
   "pygments_lexer": "ipython3",
   "version": "3.9.4"
  },
  "orig_nbformat": 4,
  "kernelspec": {
   "name": "python3",
   "display_name": "Python 3.9.4 64-bit ('pydsEnv': conda)"
  },
  "interpreter": {
   "hash": "cd92519e450c25804136c2008eef24c3d70be2e96d599be5f96d22ea88f45fe2"
  }
 },
 "nbformat": 4,
 "nbformat_minor": 2,
 "cells": [
  {
   "cell_type": "code",
   "execution_count": 1,
   "metadata": {},
   "outputs": [],
   "source": [
    "import pandas as pd \n",
    "import numpy as np\n",
    "from sklearn.model_selection import train_test_split\n",
    "from sklearn import tree"
   ]
  },
  {
   "cell_type": "code",
   "execution_count": 2,
   "metadata": {},
   "outputs": [
    {
     "output_type": "stream",
     "name": "stdout",
     "text": [
      "WARNING:tensorflow:From d:\\anaconda3\\envs\\pydsEnv\\lib\\site-packages\\tensorflow\\python\\compat\\v2_compat.py:96: disable_resource_variables (from tensorflow.python.ops.variable_scope) is deprecated and will be removed in a future version.\nInstructions for updating:\nnon-resource variables are not supported in the long term\n"
     ]
    }
   ],
   "source": [
    "from auxiliaryFunctions import getMetrics, writeModelResults, readModels, getModelPredictions, get_topModels, ensemblePredictions, ensembleMetrics"
   ]
  },
  {
   "cell_type": "code",
   "execution_count": 3,
   "metadata": {},
   "outputs": [
    {
     "output_type": "execute_result",
     "data": {
      "text/plain": [
       "   PassengerId                                               Name   Age  \\\n",
       "0            1                            Braund, Mr. Owen Harris  22.0   \n",
       "1            2  Cumings, Mrs. John Bradley (Florence Briggs Th...  38.0   \n",
       "2            3                             Heikkinen, Miss. Laina  26.0   \n",
       "3            4       Futrelle, Mrs. Jacques Heath (Lily May Peel)  35.0   \n",
       "4            5                           Allen, Mr. William Henry  35.0   \n",
       "\n",
       "   SibSp  Parch            Ticket     Fare Cabin Embarked passenger_class  \\\n",
       "0      1      0         A/5 21171   7.2500   NaN        S           Lower   \n",
       "1      1      0          PC 17599  71.2833   C85        C           Upper   \n",
       "2      0      0  STON/O2. 3101282   7.9250   NaN        S           Lower   \n",
       "3      1      0            113803  53.1000  C123        S           Upper   \n",
       "4      0      0            373450   8.0500   NaN        S           Lower   \n",
       "\n",
       "  passenger_sex passenger_survived  \n",
       "0             M                  N  \n",
       "1             F                  Y  \n",
       "2             F                  Y  \n",
       "3             F                  Y  \n",
       "4             M                  N  "
      ],
      "text/html": "<div>\n<style scoped>\n    .dataframe tbody tr th:only-of-type {\n        vertical-align: middle;\n    }\n\n    .dataframe tbody tr th {\n        vertical-align: top;\n    }\n\n    .dataframe thead th {\n        text-align: right;\n    }\n</style>\n<table border=\"1\" class=\"dataframe\">\n  <thead>\n    <tr style=\"text-align: right;\">\n      <th></th>\n      <th>PassengerId</th>\n      <th>Name</th>\n      <th>Age</th>\n      <th>SibSp</th>\n      <th>Parch</th>\n      <th>Ticket</th>\n      <th>Fare</th>\n      <th>Cabin</th>\n      <th>Embarked</th>\n      <th>passenger_class</th>\n      <th>passenger_sex</th>\n      <th>passenger_survived</th>\n    </tr>\n  </thead>\n  <tbody>\n    <tr>\n      <th>0</th>\n      <td>1</td>\n      <td>Braund, Mr. Owen Harris</td>\n      <td>22.0</td>\n      <td>1</td>\n      <td>0</td>\n      <td>A/5 21171</td>\n      <td>7.2500</td>\n      <td>NaN</td>\n      <td>S</td>\n      <td>Lower</td>\n      <td>M</td>\n      <td>N</td>\n    </tr>\n    <tr>\n      <th>1</th>\n      <td>2</td>\n      <td>Cumings, Mrs. John Bradley (Florence Briggs Th...</td>\n      <td>38.0</td>\n      <td>1</td>\n      <td>0</td>\n      <td>PC 17599</td>\n      <td>71.2833</td>\n      <td>C85</td>\n      <td>C</td>\n      <td>Upper</td>\n      <td>F</td>\n      <td>Y</td>\n    </tr>\n    <tr>\n      <th>2</th>\n      <td>3</td>\n      <td>Heikkinen, Miss. Laina</td>\n      <td>26.0</td>\n      <td>0</td>\n      <td>0</td>\n      <td>STON/O2. 3101282</td>\n      <td>7.9250</td>\n      <td>NaN</td>\n      <td>S</td>\n      <td>Lower</td>\n      <td>F</td>\n      <td>Y</td>\n    </tr>\n    <tr>\n      <th>3</th>\n      <td>4</td>\n      <td>Futrelle, Mrs. Jacques Heath (Lily May Peel)</td>\n      <td>35.0</td>\n      <td>1</td>\n      <td>0</td>\n      <td>113803</td>\n      <td>53.1000</td>\n      <td>C123</td>\n      <td>S</td>\n      <td>Upper</td>\n      <td>F</td>\n      <td>Y</td>\n    </tr>\n    <tr>\n      <th>4</th>\n      <td>5</td>\n      <td>Allen, Mr. William Henry</td>\n      <td>35.0</td>\n      <td>0</td>\n      <td>0</td>\n      <td>373450</td>\n      <td>8.0500</td>\n      <td>NaN</td>\n      <td>S</td>\n      <td>Lower</td>\n      <td>M</td>\n      <td>N</td>\n    </tr>\n  </tbody>\n</table>\n</div>"
     },
     "metadata": {},
     "execution_count": 3
    }
   ],
   "source": [
    "data = pd.read_csv('./input/data_titanic_proyecto.csv')\n",
    "data.head()"
   ]
  },
  {
   "cell_type": "code",
   "execution_count": 4,
   "metadata": {},
   "outputs": [
    {
     "output_type": "execute_result",
     "data": {
      "text/plain": [
       "                                               model  accuracy   error  \\\n",
       "0  decisionTree_criterion=entropy_depth=None_mins...    0.8042  0.1958   \n",
       "1  decisionTree_criterion=entropy_depth=10_minspl...    0.8112  0.1888   \n",
       "2  decisionTree_criterion=gini_depth=10_minsplit=...    0.7972  0.2028   \n",
       "3  SVM_C=1_kernel=rbf__SibSp_Parch_Fare_passenger...    0.7832  0.2168   \n",
       "4  SVM_C=2_kernel=rbf__SibSp_Parch_Fare_passenger...    0.8252  0.1748   \n",
       "\n",
       "   precision  recall  f1-score    model_type  \n",
       "0     0.7358  0.7358    0.7358  decisionTree  \n",
       "1     0.7708  0.6981    0.7327  decisionTree  \n",
       "2     0.7308  0.7170    0.7238  decisionTree  \n",
       "3     0.9231  0.4528    0.6076           SVM  \n",
       "4     0.8684  0.6226    0.7253           SVM  "
      ],
      "text/html": "<div>\n<style scoped>\n    .dataframe tbody tr th:only-of-type {\n        vertical-align: middle;\n    }\n\n    .dataframe tbody tr th {\n        vertical-align: top;\n    }\n\n    .dataframe thead th {\n        text-align: right;\n    }\n</style>\n<table border=\"1\" class=\"dataframe\">\n  <thead>\n    <tr style=\"text-align: right;\">\n      <th></th>\n      <th>model</th>\n      <th>accuracy</th>\n      <th>error</th>\n      <th>precision</th>\n      <th>recall</th>\n      <th>f1-score</th>\n      <th>model_type</th>\n    </tr>\n  </thead>\n  <tbody>\n    <tr>\n      <th>0</th>\n      <td>decisionTree_criterion=entropy_depth=None_mins...</td>\n      <td>0.8042</td>\n      <td>0.1958</td>\n      <td>0.7358</td>\n      <td>0.7358</td>\n      <td>0.7358</td>\n      <td>decisionTree</td>\n    </tr>\n    <tr>\n      <th>1</th>\n      <td>decisionTree_criterion=entropy_depth=10_minspl...</td>\n      <td>0.8112</td>\n      <td>0.1888</td>\n      <td>0.7708</td>\n      <td>0.6981</td>\n      <td>0.7327</td>\n      <td>decisionTree</td>\n    </tr>\n    <tr>\n      <th>2</th>\n      <td>decisionTree_criterion=gini_depth=10_minsplit=...</td>\n      <td>0.7972</td>\n      <td>0.2028</td>\n      <td>0.7308</td>\n      <td>0.7170</td>\n      <td>0.7238</td>\n      <td>decisionTree</td>\n    </tr>\n    <tr>\n      <th>3</th>\n      <td>SVM_C=1_kernel=rbf__SibSp_Parch_Fare_passenger...</td>\n      <td>0.7832</td>\n      <td>0.2168</td>\n      <td>0.9231</td>\n      <td>0.4528</td>\n      <td>0.6076</td>\n      <td>SVM</td>\n    </tr>\n    <tr>\n      <th>4</th>\n      <td>SVM_C=2_kernel=rbf__SibSp_Parch_Fare_passenger...</td>\n      <td>0.8252</td>\n      <td>0.1748</td>\n      <td>0.8684</td>\n      <td>0.6226</td>\n      <td>0.7253</td>\n      <td>SVM</td>\n    </tr>\n  </tbody>\n</table>\n</div>"
     },
     "metadata": {},
     "execution_count": 4
    }
   ],
   "source": [
    "results = pd.read_csv('./results/model_results.csv')\n",
    "results['model_type'] = results['model'].apply(lambda row: row.split('_', 1)[0])\n",
    "results.head()"
   ]
  },
  {
   "cell_type": "code",
   "execution_count": 19,
   "metadata": {},
   "outputs": [
    {
     "output_type": "stream",
     "name": "stderr",
     "text": [
      "d:\\cgarcia\\Galileo\\2do_Trimestre\\StatisticalLearning_I\\project\\auxiliaryFunctions.py:149: FutureWarning: Indexing with multiple keys (implicitly converted to a tuple of keys) will be deprecated, use a list instead.\n  top_models = df.groupby('model_type')['accuracy', 'model'].max()\n"
     ]
    },
    {
     "output_type": "execute_result",
     "data": {
      "text/plain": [
       "              accuracy                                              model\n",
       "model_type                                                               \n",
       "NaiveBayes      0.8112  NaiveBayes__SibSp_Parch_Fare_passenger_class_i...\n",
       "SVM             0.8322  SVM_C=4_kernel=rbf__SibSp_Parch_Fare_passenger...\n",
       "decisionTree    0.8112  decisionTree_criterion=gini_depth=10_minsplit=...\n",
       "regLog          0.8112  regLog_lr=0.1_reg=l2_lambda=0.0001_mbatch=20_e..."
      ],
      "text/html": "<div>\n<style scoped>\n    .dataframe tbody tr th:only-of-type {\n        vertical-align: middle;\n    }\n\n    .dataframe tbody tr th {\n        vertical-align: top;\n    }\n\n    .dataframe thead th {\n        text-align: right;\n    }\n</style>\n<table border=\"1\" class=\"dataframe\">\n  <thead>\n    <tr style=\"text-align: right;\">\n      <th></th>\n      <th>accuracy</th>\n      <th>model</th>\n    </tr>\n    <tr>\n      <th>model_type</th>\n      <th></th>\n      <th></th>\n    </tr>\n  </thead>\n  <tbody>\n    <tr>\n      <th>NaiveBayes</th>\n      <td>0.8112</td>\n      <td>NaiveBayes__SibSp_Parch_Fare_passenger_class_i...</td>\n    </tr>\n    <tr>\n      <th>SVM</th>\n      <td>0.8322</td>\n      <td>SVM_C=4_kernel=rbf__SibSp_Parch_Fare_passenger...</td>\n    </tr>\n    <tr>\n      <th>decisionTree</th>\n      <td>0.8112</td>\n      <td>decisionTree_criterion=gini_depth=10_minsplit=...</td>\n    </tr>\n    <tr>\n      <th>regLog</th>\n      <td>0.8112</td>\n      <td>regLog_lr=0.1_reg=l2_lambda=0.0001_mbatch=20_e...</td>\n    </tr>\n  </tbody>\n</table>\n</div>"
     },
     "metadata": {},
     "execution_count": 19
    }
   ],
   "source": [
    "top_models = get_topModels(results)\n",
    "top_models"
   ]
  },
  {
   "cell_type": "code",
   "execution_count": 6,
   "metadata": {},
   "outputs": [
    {
     "output_type": "execute_result",
     "data": {
      "text/plain": [
       "   SibSp     Parch      Fare  passenger_class  isFemale\n",
       "0    0.2  0.166667  0.044979                0         1\n",
       "1    0.1  0.150000  0.032000                1         1"
      ],
      "text/html": "<div>\n<style scoped>\n    .dataframe tbody tr th:only-of-type {\n        vertical-align: middle;\n    }\n\n    .dataframe tbody tr th {\n        vertical-align: top;\n    }\n\n    .dataframe thead th {\n        text-align: right;\n    }\n</style>\n<table border=\"1\" class=\"dataframe\">\n  <thead>\n    <tr style=\"text-align: right;\">\n      <th></th>\n      <th>SibSp</th>\n      <th>Parch</th>\n      <th>Fare</th>\n      <th>passenger_class</th>\n      <th>isFemale</th>\n    </tr>\n  </thead>\n  <tbody>\n    <tr>\n      <th>0</th>\n      <td>0.2</td>\n      <td>0.166667</td>\n      <td>0.044979</td>\n      <td>0</td>\n      <td>1</td>\n    </tr>\n    <tr>\n      <th>1</th>\n      <td>0.1</td>\n      <td>0.150000</td>\n      <td>0.032000</td>\n      <td>1</td>\n      <td>1</td>\n    </tr>\n  </tbody>\n</table>\n</div>"
     },
     "metadata": {},
     "execution_count": 6
    }
   ],
   "source": [
    "d = {'SibSp': [0.2, 0.1]\n",
    "    ,'Parch':\t[0.166667, 0.15]\n",
    "    ,'Fare': [0.044979, 0.032]\t\n",
    "    ,'passenger_class': [0, 1]\n",
    "    ,'isFemale': [1, 1]\n",
    "}\n",
    "\n",
    "X_test = pd.DataFrame(data = d)\n",
    "X_test"
   ]
  },
  {
   "cell_type": "code",
   "execution_count": null,
   "metadata": {},
   "outputs": [],
   "source": [
    "def simulatePrediction(x_predict):\n",
    "    predictions_df = ensemblePredictions(top_models, X_test)\n",
    "    mode_pred = predictions_df['mode'].values\n",
    "\n",
    "    pred_tree = tree.plot_tree(model, filled = True)\n",
    "    #plt.show()"
   ]
  },
  {
   "cell_type": "code",
   "execution_count": 9,
   "metadata": {},
   "outputs": [
    {
     "output_type": "execute_result",
     "data": {
      "text/plain": [
       "   NaiveBayes  SVM  decisionTree  regLog  mode\n",
       "0           1    0             1       1     1\n",
       "1           1    1             0       1     1"
      ],
      "text/html": "<div>\n<style scoped>\n    .dataframe tbody tr th:only-of-type {\n        vertical-align: middle;\n    }\n\n    .dataframe tbody tr th {\n        vertical-align: top;\n    }\n\n    .dataframe thead th {\n        text-align: right;\n    }\n</style>\n<table border=\"1\" class=\"dataframe\">\n  <thead>\n    <tr style=\"text-align: right;\">\n      <th></th>\n      <th>NaiveBayes</th>\n      <th>SVM</th>\n      <th>decisionTree</th>\n      <th>regLog</th>\n      <th>mode</th>\n    </tr>\n  </thead>\n  <tbody>\n    <tr>\n      <th>0</th>\n      <td>1</td>\n      <td>0</td>\n      <td>1</td>\n      <td>1</td>\n      <td>1</td>\n    </tr>\n    <tr>\n      <th>1</th>\n      <td>1</td>\n      <td>1</td>\n      <td>0</td>\n      <td>1</td>\n      <td>1</td>\n    </tr>\n  </tbody>\n</table>\n</div>"
     },
     "metadata": {},
     "execution_count": 9
    }
   ],
   "source": [
    "predictions_df = ensemblePredictions(top_models, X_test)\n",
    "predictions_df.head()"
   ]
  },
  {
   "cell_type": "code",
   "execution_count": 22,
   "metadata": {},
   "outputs": [
    {
     "output_type": "execute_result",
     "data": {
      "text/plain": [
       "array([[0.94497707, 1.14870139],\n",
       "       [0.18105566, 3.30475271]])"
      ]
     },
     "metadata": {},
     "execution_count": 22
    }
   ],
   "source": []
  },
  {
   "cell_type": "code",
   "execution_count": 23,
   "metadata": {},
   "outputs": [
    {
     "output_type": "execute_result",
     "data": {
      "text/plain": [
       "array([0.59900516, 0.9191816 ], dtype=float32)"
      ]
     },
     "metadata": {},
     "execution_count": 23
    }
   ],
   "source": [
    "model = readModels(top_models.loc['regLog', 'model'], 'regLog')\n",
    "getModelPredictions(model, X_test, 'regLog', True)"
   ]
  },
  {
   "cell_type": "code",
   "execution_count": 10,
   "metadata": {},
   "outputs": [],
   "source": [
    "#tree.plot_tree(model, filled = True)\n",
    "#plt.show()"
   ]
  },
  {
   "cell_type": "code",
   "execution_count": 14,
   "metadata": {},
   "outputs": [
    {
     "output_type": "execute_result",
     "data": {
      "text/plain": [
       "          model  accuracy  error  precision  recall  f1-score\n",
       "0    NaiveBayes       0.5    0.5        0.5     1.0    0.6667\n",
       "1           SVM       1.0    0.0        1.0     1.0    1.0000\n",
       "2  decisionTree       0.0    1.0        0.0     0.0    0.0000\n",
       "3        regLog       0.5    0.5        0.5     1.0    0.6667\n",
       "4          mode       0.5    0.5        0.5     1.0    0.6667"
      ],
      "text/html": "<div>\n<style scoped>\n    .dataframe tbody tr th:only-of-type {\n        vertical-align: middle;\n    }\n\n    .dataframe tbody tr th {\n        vertical-align: top;\n    }\n\n    .dataframe thead th {\n        text-align: right;\n    }\n</style>\n<table border=\"1\" class=\"dataframe\">\n  <thead>\n    <tr style=\"text-align: right;\">\n      <th></th>\n      <th>model</th>\n      <th>accuracy</th>\n      <th>error</th>\n      <th>precision</th>\n      <th>recall</th>\n      <th>f1-score</th>\n    </tr>\n  </thead>\n  <tbody>\n    <tr>\n      <th>0</th>\n      <td>NaiveBayes</td>\n      <td>0.5</td>\n      <td>0.5</td>\n      <td>0.5</td>\n      <td>1.0</td>\n      <td>0.6667</td>\n    </tr>\n    <tr>\n      <th>1</th>\n      <td>SVM</td>\n      <td>1.0</td>\n      <td>0.0</td>\n      <td>1.0</td>\n      <td>1.0</td>\n      <td>1.0000</td>\n    </tr>\n    <tr>\n      <th>2</th>\n      <td>decisionTree</td>\n      <td>0.0</td>\n      <td>1.0</td>\n      <td>0.0</td>\n      <td>0.0</td>\n      <td>0.0000</td>\n    </tr>\n    <tr>\n      <th>3</th>\n      <td>regLog</td>\n      <td>0.5</td>\n      <td>0.5</td>\n      <td>0.5</td>\n      <td>1.0</td>\n      <td>0.6667</td>\n    </tr>\n    <tr>\n      <th>4</th>\n      <td>mode</td>\n      <td>0.5</td>\n      <td>0.5</td>\n      <td>0.5</td>\n      <td>1.0</td>\n      <td>0.6667</td>\n    </tr>\n  </tbody>\n</table>\n</div>"
     },
     "metadata": {},
     "execution_count": 14
    }
   ],
   "source": [
    "model_metrics = ensembleMetrics(predictions_df, [0, 1])\n",
    "model_metrics"
   ]
  }
 ]
}