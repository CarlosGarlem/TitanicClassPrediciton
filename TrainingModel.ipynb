{
 "metadata": {
  "language_info": {
   "codemirror_mode": {
    "name": "ipython",
    "version": 3
   },
   "file_extension": ".py",
   "mimetype": "text/x-python",
   "name": "python",
   "nbconvert_exporter": "python",
   "pygments_lexer": "ipython3",
   "version": "3.9.4"
  },
  "orig_nbformat": 4,
  "kernelspec": {
   "name": "python3",
   "display_name": "Python 3.9.4 64-bit ('pydsEnv': conda)"
  },
  "interpreter": {
   "hash": "cd92519e450c25804136c2008eef24c3d70be2e96d599be5f96d22ea88f45fe2"
  }
 },
 "nbformat": 4,
 "nbformat_minor": 2,
 "cells": [
  {
   "source": [
    "Proyecto Clasificacion Binaria - Carlos Garcia 21000475"
   ],
   "cell_type": "markdown",
   "metadata": {}
  },
  {
   "source": [
    "### Librerias"
   ],
   "cell_type": "markdown",
   "metadata": {}
  },
  {
   "cell_type": "code",
   "execution_count": 1,
   "metadata": {},
   "outputs": [],
   "source": [
    "import tensorflow as tf\n",
    "from tensorflow import keras\n",
    "\n",
    "import numpy as np\n",
    "import pandas as pd\n",
    "from datetime import datetime\n",
    "import matplotlib.pyplot as plt"
   ]
  },
  {
   "cell_type": "code",
   "execution_count": 2,
   "metadata": {},
   "outputs": [],
   "source": [
    "from sklearn.model_selection import train_test_split\n",
    "from sklearn.preprocessing import MinMaxScaler, OneHotEncoder, LabelEncoder, OrdinalEncoder\n",
    "from sklearn import svm, tree"
   ]
  },
  {
   "cell_type": "code",
   "execution_count": 3,
   "metadata": {},
   "outputs": [
    {
     "output_type": "stream",
     "name": "stdout",
     "text": [
      "WARNING:tensorflow:From d:\\anaconda3\\envs\\pydsEnv\\lib\\site-packages\\tensorflow\\python\\compat\\v2_compat.py:96: disable_resource_variables (from tensorflow.python.ops.variable_scope) is deprecated and will be removed in a future version.\nInstructions for updating:\nnon-resource variables are not supported in the long term\n"
     ]
    }
   ],
   "source": [
    "from auxiliaryFunctions import getMetrics, writeModelResults, readModels, getModelPredictions, get_topModels, ensemblePredictions, ensembleMetrics"
   ]
  },
  {
   "cell_type": "code",
   "execution_count": 4,
   "metadata": {},
   "outputs": [
    {
     "output_type": "stream",
     "name": "stdout",
     "text": [
      "Enabled compatitility to tf1.x\n"
     ]
    }
   ],
   "source": [
    "if tf.__version__.startswith(\"2.\"):\n",
    "  import tensorflow.compat.v1 as tf\n",
    "  tf.compat.v1.disable_v2_behavior()\n",
    "  tf.compat.v1.disable_eager_execution()\n",
    "  print(\"Enabled compatitility to tf1.x\")"
   ]
  },
  {
   "source": [
    "### Datos"
   ],
   "cell_type": "markdown",
   "metadata": {}
  },
  {
   "cell_type": "code",
   "execution_count": 5,
   "metadata": {},
   "outputs": [
    {
     "output_type": "execute_result",
     "data": {
      "text/plain": [
       "   PassengerId                                               Name   Age  \\\n",
       "0            1                            Braund, Mr. Owen Harris  22.0   \n",
       "1            2  Cumings, Mrs. John Bradley (Florence Briggs Th...  38.0   \n",
       "2            3                             Heikkinen, Miss. Laina  26.0   \n",
       "3            4       Futrelle, Mrs. Jacques Heath (Lily May Peel)  35.0   \n",
       "4            5                           Allen, Mr. William Henry  35.0   \n",
       "\n",
       "   SibSp  Parch            Ticket     Fare Cabin Embarked passenger_class  \\\n",
       "0      1      0         A/5 21171   7.2500   NaN        S           Lower   \n",
       "1      1      0          PC 17599  71.2833   C85        C           Upper   \n",
       "2      0      0  STON/O2. 3101282   7.9250   NaN        S           Lower   \n",
       "3      1      0            113803  53.1000  C123        S           Upper   \n",
       "4      0      0            373450   8.0500   NaN        S           Lower   \n",
       "\n",
       "  passenger_sex passenger_survived  \n",
       "0             M                  N  \n",
       "1             F                  Y  \n",
       "2             F                  Y  \n",
       "3             F                  Y  \n",
       "4             M                  N  "
      ],
      "text/html": "<div>\n<style scoped>\n    .dataframe tbody tr th:only-of-type {\n        vertical-align: middle;\n    }\n\n    .dataframe tbody tr th {\n        vertical-align: top;\n    }\n\n    .dataframe thead th {\n        text-align: right;\n    }\n</style>\n<table border=\"1\" class=\"dataframe\">\n  <thead>\n    <tr style=\"text-align: right;\">\n      <th></th>\n      <th>PassengerId</th>\n      <th>Name</th>\n      <th>Age</th>\n      <th>SibSp</th>\n      <th>Parch</th>\n      <th>Ticket</th>\n      <th>Fare</th>\n      <th>Cabin</th>\n      <th>Embarked</th>\n      <th>passenger_class</th>\n      <th>passenger_sex</th>\n      <th>passenger_survived</th>\n    </tr>\n  </thead>\n  <tbody>\n    <tr>\n      <th>0</th>\n      <td>1</td>\n      <td>Braund, Mr. Owen Harris</td>\n      <td>22.0</td>\n      <td>1</td>\n      <td>0</td>\n      <td>A/5 21171</td>\n      <td>7.2500</td>\n      <td>NaN</td>\n      <td>S</td>\n      <td>Lower</td>\n      <td>M</td>\n      <td>N</td>\n    </tr>\n    <tr>\n      <th>1</th>\n      <td>2</td>\n      <td>Cumings, Mrs. John Bradley (Florence Briggs Th...</td>\n      <td>38.0</td>\n      <td>1</td>\n      <td>0</td>\n      <td>PC 17599</td>\n      <td>71.2833</td>\n      <td>C85</td>\n      <td>C</td>\n      <td>Upper</td>\n      <td>F</td>\n      <td>Y</td>\n    </tr>\n    <tr>\n      <th>2</th>\n      <td>3</td>\n      <td>Heikkinen, Miss. Laina</td>\n      <td>26.0</td>\n      <td>0</td>\n      <td>0</td>\n      <td>STON/O2. 3101282</td>\n      <td>7.9250</td>\n      <td>NaN</td>\n      <td>S</td>\n      <td>Lower</td>\n      <td>F</td>\n      <td>Y</td>\n    </tr>\n    <tr>\n      <th>3</th>\n      <td>4</td>\n      <td>Futrelle, Mrs. Jacques Heath (Lily May Peel)</td>\n      <td>35.0</td>\n      <td>1</td>\n      <td>0</td>\n      <td>113803</td>\n      <td>53.1000</td>\n      <td>C123</td>\n      <td>S</td>\n      <td>Upper</td>\n      <td>F</td>\n      <td>Y</td>\n    </tr>\n    <tr>\n      <th>4</th>\n      <td>5</td>\n      <td>Allen, Mr. William Henry</td>\n      <td>35.0</td>\n      <td>0</td>\n      <td>0</td>\n      <td>373450</td>\n      <td>8.0500</td>\n      <td>NaN</td>\n      <td>S</td>\n      <td>Lower</td>\n      <td>M</td>\n      <td>N</td>\n    </tr>\n  </tbody>\n</table>\n</div>"
     },
     "metadata": {},
     "execution_count": 5
    }
   ],
   "source": [
    "data = pd.read_csv('./input/data_titanic_proyecto.csv')\n",
    "data.head()"
   ]
  },
  {
   "cell_type": "code",
   "execution_count": 6,
   "metadata": {},
   "outputs": [],
   "source": [
    "#Train test split\n",
    "X_train, X_test, y_train, y_test = train_test_split(data.iloc[:, :-1], data[['passenger_survived']], test_size = 0.2, random_state = 123)"
   ]
  },
  {
   "cell_type": "code",
   "execution_count": 7,
   "metadata": {},
   "outputs": [
    {
     "output_type": "stream",
     "name": "stdout",
     "text": [
      "Original data:  (891, 12)\nXtrain:  (712, 11)\nXtest:  (179, 11)\nYtrain:  (712, 1)\nYtest:  (179, 1)\n"
     ]
    }
   ],
   "source": [
    "print('Original data: ', data.shape)\n",
    "print('Xtrain: ', X_train.shape)\n",
    "print('Xtest: ', X_test.shape)\n",
    "print('Ytrain: ', y_train.shape)\n",
    "print('Ytest: ', y_test.shape)"
   ]
  },
  {
   "source": [
    "### Preparación de los datos"
   ],
   "cell_type": "markdown",
   "metadata": {}
  },
  {
   "cell_type": "code",
   "execution_count": 8,
   "metadata": {},
   "outputs": [
    {
     "output_type": "execute_result",
     "data": {
      "text/plain": [
       "     PassengerId                             Name   Age  SibSp  Parch  \\\n",
       "329          330     Hippach, Miss. Jean Gertrude  16.0      0      1   \n",
       "749          750          Connaghton, Mr. Michael  31.0      0      0   \n",
       "203          204             Youseff, Mr. Gerious  45.5      0      0   \n",
       "421          422              Charters, Mr. David  21.0      0      0   \n",
       "97            98  Greenfield, Mr. William Bertram  23.0      0      1   \n",
       "\n",
       "         Ticket     Fare    Cabin Embarked passenger_class passenger_sex  \n",
       "329      111361  57.9792      B18        C           Upper             F  \n",
       "749      335097   7.7500      NaN        Q           Lower             M  \n",
       "203        2628   7.2250      NaN        C           Lower             M  \n",
       "421  A/5. 13032   7.7333      NaN        Q           Lower             M  \n",
       "97     PC 17759  63.3583  D10 D12        C           Upper             M  "
      ],
      "text/html": "<div>\n<style scoped>\n    .dataframe tbody tr th:only-of-type {\n        vertical-align: middle;\n    }\n\n    .dataframe tbody tr th {\n        vertical-align: top;\n    }\n\n    .dataframe thead th {\n        text-align: right;\n    }\n</style>\n<table border=\"1\" class=\"dataframe\">\n  <thead>\n    <tr style=\"text-align: right;\">\n      <th></th>\n      <th>PassengerId</th>\n      <th>Name</th>\n      <th>Age</th>\n      <th>SibSp</th>\n      <th>Parch</th>\n      <th>Ticket</th>\n      <th>Fare</th>\n      <th>Cabin</th>\n      <th>Embarked</th>\n      <th>passenger_class</th>\n      <th>passenger_sex</th>\n    </tr>\n  </thead>\n  <tbody>\n    <tr>\n      <th>329</th>\n      <td>330</td>\n      <td>Hippach, Miss. Jean Gertrude</td>\n      <td>16.0</td>\n      <td>0</td>\n      <td>1</td>\n      <td>111361</td>\n      <td>57.9792</td>\n      <td>B18</td>\n      <td>C</td>\n      <td>Upper</td>\n      <td>F</td>\n    </tr>\n    <tr>\n      <th>749</th>\n      <td>750</td>\n      <td>Connaghton, Mr. Michael</td>\n      <td>31.0</td>\n      <td>0</td>\n      <td>0</td>\n      <td>335097</td>\n      <td>7.7500</td>\n      <td>NaN</td>\n      <td>Q</td>\n      <td>Lower</td>\n      <td>M</td>\n    </tr>\n    <tr>\n      <th>203</th>\n      <td>204</td>\n      <td>Youseff, Mr. Gerious</td>\n      <td>45.5</td>\n      <td>0</td>\n      <td>0</td>\n      <td>2628</td>\n      <td>7.2250</td>\n      <td>NaN</td>\n      <td>C</td>\n      <td>Lower</td>\n      <td>M</td>\n    </tr>\n    <tr>\n      <th>421</th>\n      <td>422</td>\n      <td>Charters, Mr. David</td>\n      <td>21.0</td>\n      <td>0</td>\n      <td>0</td>\n      <td>A/5. 13032</td>\n      <td>7.7333</td>\n      <td>NaN</td>\n      <td>Q</td>\n      <td>Lower</td>\n      <td>M</td>\n    </tr>\n    <tr>\n      <th>97</th>\n      <td>98</td>\n      <td>Greenfield, Mr. William Bertram</td>\n      <td>23.0</td>\n      <td>0</td>\n      <td>1</td>\n      <td>PC 17759</td>\n      <td>63.3583</td>\n      <td>D10 D12</td>\n      <td>C</td>\n      <td>Upper</td>\n      <td>M</td>\n    </tr>\n  </tbody>\n</table>\n</div>"
     },
     "metadata": {},
     "execution_count": 8
    }
   ],
   "source": [
    "X_train.head()"
   ]
  },
  {
   "source": [
    "De todas las columnas disponibles Age, Cabin y Embarked presentan valores nulos. Dado que en las primeras dos columnas mencionadas el porcentaje es mayor a un 5% no es recomendable realizar imputación de los datos, por lo cual serán removidas del dataset. "
   ],
   "cell_type": "markdown",
   "metadata": {}
  },
  {
   "source": [
    "X_train.merge(y_train, left_index = True, right_index = True).isna().sum() / len(X_train)"
   ],
   "cell_type": "code",
   "metadata": {},
   "execution_count": 9,
   "outputs": [
    {
     "output_type": "execute_result",
     "data": {
      "text/plain": [
       "PassengerId           0.000000\n",
       "Name                  0.000000\n",
       "Age                   0.207865\n",
       "SibSp                 0.000000\n",
       "Parch                 0.000000\n",
       "Ticket                0.000000\n",
       "Fare                  0.000000\n",
       "Cabin                 0.780899\n",
       "Embarked              0.002809\n",
       "passenger_class       0.000000\n",
       "passenger_sex         0.000000\n",
       "passenger_survived    0.000000\n",
       "dtype: float64"
      ]
     },
     "metadata": {},
     "execution_count": 9
    }
   ]
  },
  {
   "cell_type": "code",
   "execution_count": 10,
   "metadata": {},
   "outputs": [],
   "source": [
    "X_train.dropna(axis = 1, how = 'any', inplace = True)"
   ]
  },
  {
   "source": [
    "La codificación de variables categóricas determina las pocas clases presentes tanto para passenger_sex por lo que se usara OHE k-1, en el caso de passenger_class al ser una variable ordinal se aplicara ordinal encoding, lo cual evita la expansión del número de features y toma ventaja del orden mostrado en la variable. "
   ],
   "cell_type": "markdown",
   "metadata": {}
  },
  {
   "cell_type": "code",
   "execution_count": 11,
   "metadata": {},
   "outputs": [
    {
     "output_type": "execute_result",
     "data": {
      "text/plain": [
       "OrdinalEncoder()"
      ]
     },
     "metadata": {},
     "execution_count": 11
    }
   ],
   "source": [
    "enc = OrdinalEncoder()\n",
    "pclass = np.sort(X_train.passenger_class.unique())\n",
    "pclass = np.expand_dims(pclass, axis = 1)\n",
    "enc.fit(pclass)"
   ]
  },
  {
   "source": [
    "X_train['passenger_class'] = enc.transform(X_train[['passenger_class']])\n",
    "X_train.head()"
   ],
   "cell_type": "code",
   "metadata": {},
   "execution_count": 12,
   "outputs": [
    {
     "output_type": "execute_result",
     "data": {
      "text/plain": [
       "     PassengerId                             Name  SibSp  Parch      Ticket  \\\n",
       "329          330     Hippach, Miss. Jean Gertrude      0      1      111361   \n",
       "749          750          Connaghton, Mr. Michael      0      0      335097   \n",
       "203          204             Youseff, Mr. Gerious      0      0        2628   \n",
       "421          422              Charters, Mr. David      0      0  A/5. 13032   \n",
       "97            98  Greenfield, Mr. William Bertram      0      1    PC 17759   \n",
       "\n",
       "        Fare  passenger_class passenger_sex  \n",
       "329  57.9792              2.0             F  \n",
       "749   7.7500              0.0             M  \n",
       "203   7.2250              0.0             M  \n",
       "421   7.7333              0.0             M  \n",
       "97   63.3583              2.0             M  "
      ],
      "text/html": "<div>\n<style scoped>\n    .dataframe tbody tr th:only-of-type {\n        vertical-align: middle;\n    }\n\n    .dataframe tbody tr th {\n        vertical-align: top;\n    }\n\n    .dataframe thead th {\n        text-align: right;\n    }\n</style>\n<table border=\"1\" class=\"dataframe\">\n  <thead>\n    <tr style=\"text-align: right;\">\n      <th></th>\n      <th>PassengerId</th>\n      <th>Name</th>\n      <th>SibSp</th>\n      <th>Parch</th>\n      <th>Ticket</th>\n      <th>Fare</th>\n      <th>passenger_class</th>\n      <th>passenger_sex</th>\n    </tr>\n  </thead>\n  <tbody>\n    <tr>\n      <th>329</th>\n      <td>330</td>\n      <td>Hippach, Miss. Jean Gertrude</td>\n      <td>0</td>\n      <td>1</td>\n      <td>111361</td>\n      <td>57.9792</td>\n      <td>2.0</td>\n      <td>F</td>\n    </tr>\n    <tr>\n      <th>749</th>\n      <td>750</td>\n      <td>Connaghton, Mr. Michael</td>\n      <td>0</td>\n      <td>0</td>\n      <td>335097</td>\n      <td>7.7500</td>\n      <td>0.0</td>\n      <td>M</td>\n    </tr>\n    <tr>\n      <th>203</th>\n      <td>204</td>\n      <td>Youseff, Mr. Gerious</td>\n      <td>0</td>\n      <td>0</td>\n      <td>2628</td>\n      <td>7.2250</td>\n      <td>0.0</td>\n      <td>M</td>\n    </tr>\n    <tr>\n      <th>421</th>\n      <td>422</td>\n      <td>Charters, Mr. David</td>\n      <td>0</td>\n      <td>0</td>\n      <td>A/5. 13032</td>\n      <td>7.7333</td>\n      <td>0.0</td>\n      <td>M</td>\n    </tr>\n    <tr>\n      <th>97</th>\n      <td>98</td>\n      <td>Greenfield, Mr. William Bertram</td>\n      <td>0</td>\n      <td>1</td>\n      <td>PC 17759</td>\n      <td>63.3583</td>\n      <td>2.0</td>\n      <td>M</td>\n    </tr>\n  </tbody>\n</table>\n</div>"
     },
     "metadata": {},
     "execution_count": 12
    }
   ]
  },
  {
   "cell_type": "code",
   "execution_count": 13,
   "metadata": {},
   "outputs": [],
   "source": [
    "#X_train = pd.get_dummies(X_train, columns = ['passenger_class'])\n",
    "#X_train.drop(['passenger_class_Upper'], axis = 1, inplace = True)\n",
    "#X_train.head()"
   ]
  },
  {
   "cell_type": "code",
   "execution_count": 14,
   "metadata": {},
   "outputs": [
    {
     "output_type": "execute_result",
     "data": {
      "text/plain": [
       "array(['F', 'M'], dtype=object)"
      ]
     },
     "metadata": {},
     "execution_count": 14
    }
   ],
   "source": [
    "X_train['passenger_sex'].unique()"
   ]
  },
  {
   "cell_type": "code",
   "execution_count": 15,
   "metadata": {},
   "outputs": [],
   "source": [
    "X_train['isFemale'] = np.where(X_train['passenger_sex'] == 'F', 1, 0)"
   ]
  },
  {
   "cell_type": "code",
   "execution_count": 16,
   "metadata": {},
   "outputs": [
    {
     "output_type": "execute_result",
     "data": {
      "text/plain": [
       "     SibSp  Parch     Fare  passenger_class  isFemale\n",
       "329      0      1  57.9792              2.0         1\n",
       "749      0      0   7.7500              0.0         0\n",
       "203      0      0   7.2250              0.0         0\n",
       "421      0      0   7.7333              0.0         0\n",
       "97       0      1  63.3583              2.0         0"
      ],
      "text/html": "<div>\n<style scoped>\n    .dataframe tbody tr th:only-of-type {\n        vertical-align: middle;\n    }\n\n    .dataframe tbody tr th {\n        vertical-align: top;\n    }\n\n    .dataframe thead th {\n        text-align: right;\n    }\n</style>\n<table border=\"1\" class=\"dataframe\">\n  <thead>\n    <tr style=\"text-align: right;\">\n      <th></th>\n      <th>SibSp</th>\n      <th>Parch</th>\n      <th>Fare</th>\n      <th>passenger_class</th>\n      <th>isFemale</th>\n    </tr>\n  </thead>\n  <tbody>\n    <tr>\n      <th>329</th>\n      <td>0</td>\n      <td>1</td>\n      <td>57.9792</td>\n      <td>2.0</td>\n      <td>1</td>\n    </tr>\n    <tr>\n      <th>749</th>\n      <td>0</td>\n      <td>0</td>\n      <td>7.7500</td>\n      <td>0.0</td>\n      <td>0</td>\n    </tr>\n    <tr>\n      <th>203</th>\n      <td>0</td>\n      <td>0</td>\n      <td>7.2250</td>\n      <td>0.0</td>\n      <td>0</td>\n    </tr>\n    <tr>\n      <th>421</th>\n      <td>0</td>\n      <td>0</td>\n      <td>7.7333</td>\n      <td>0.0</td>\n      <td>0</td>\n    </tr>\n    <tr>\n      <th>97</th>\n      <td>0</td>\n      <td>1</td>\n      <td>63.3583</td>\n      <td>2.0</td>\n      <td>0</td>\n    </tr>\n  </tbody>\n</table>\n</div>"
     },
     "metadata": {},
     "execution_count": 16
    }
   ],
   "source": [
    "X_train.drop(['PassengerId', 'Name', 'Ticket', 'passenger_sex'], axis = 1, inplace = True)\n",
    "X_train.head()"
   ]
  },
  {
   "cell_type": "code",
   "execution_count": 17,
   "metadata": {},
   "outputs": [
    {
     "output_type": "execute_result",
     "data": {
      "text/plain": [
       "     passenger_survived\n",
       "329                   1\n",
       "749                   0\n",
       "203                   0\n",
       "421                   0\n",
       "97                    1"
      ],
      "text/html": "<div>\n<style scoped>\n    .dataframe tbody tr th:only-of-type {\n        vertical-align: middle;\n    }\n\n    .dataframe tbody tr th {\n        vertical-align: top;\n    }\n\n    .dataframe thead th {\n        text-align: right;\n    }\n</style>\n<table border=\"1\" class=\"dataframe\">\n  <thead>\n    <tr style=\"text-align: right;\">\n      <th></th>\n      <th>passenger_survived</th>\n    </tr>\n  </thead>\n  <tbody>\n    <tr>\n      <th>329</th>\n      <td>1</td>\n    </tr>\n    <tr>\n      <th>749</th>\n      <td>0</td>\n    </tr>\n    <tr>\n      <th>203</th>\n      <td>0</td>\n    </tr>\n    <tr>\n      <th>421</th>\n      <td>0</td>\n    </tr>\n    <tr>\n      <th>97</th>\n      <td>1</td>\n    </tr>\n  </tbody>\n</table>\n</div>"
     },
     "metadata": {},
     "execution_count": 17
    }
   ],
   "source": [
    "y_train['passenger_survived'] = np.where(y_train['passenger_survived'] == 'Y', 1, 0)\n",
    "y_train.head()"
   ]
  },
  {
   "source": [
    "Finalmente se realiza el escalado de las variables para mantenerlas entre 0 y 1, con el fin de facilitar a los algoritmos de GD a converger"
   ],
   "cell_type": "markdown",
   "metadata": {}
  },
  {
   "cell_type": "code",
   "execution_count": 18,
   "metadata": {},
   "outputs": [
    {
     "output_type": "execute_result",
     "data": {
      "text/plain": [
       "     SibSp  Parch      Fare  passenger_class  isFemale\n",
       "329    0.0    0.2  0.113168              1.0         1\n",
       "749    0.0    0.0  0.015127              0.0         0\n",
       "203    0.0    0.0  0.014102              0.0         0\n",
       "421    0.0    0.0  0.015094              0.0         0\n",
       "97     0.0    0.2  0.123667              1.0         0"
      ],
      "text/html": "<div>\n<style scoped>\n    .dataframe tbody tr th:only-of-type {\n        vertical-align: middle;\n    }\n\n    .dataframe tbody tr th {\n        vertical-align: top;\n    }\n\n    .dataframe thead th {\n        text-align: right;\n    }\n</style>\n<table border=\"1\" class=\"dataframe\">\n  <thead>\n    <tr style=\"text-align: right;\">\n      <th></th>\n      <th>SibSp</th>\n      <th>Parch</th>\n      <th>Fare</th>\n      <th>passenger_class</th>\n      <th>isFemale</th>\n    </tr>\n  </thead>\n  <tbody>\n    <tr>\n      <th>329</th>\n      <td>0.0</td>\n      <td>0.2</td>\n      <td>0.113168</td>\n      <td>1.0</td>\n      <td>1</td>\n    </tr>\n    <tr>\n      <th>749</th>\n      <td>0.0</td>\n      <td>0.0</td>\n      <td>0.015127</td>\n      <td>0.0</td>\n      <td>0</td>\n    </tr>\n    <tr>\n      <th>203</th>\n      <td>0.0</td>\n      <td>0.0</td>\n      <td>0.014102</td>\n      <td>0.0</td>\n      <td>0</td>\n    </tr>\n    <tr>\n      <th>421</th>\n      <td>0.0</td>\n      <td>0.0</td>\n      <td>0.015094</td>\n      <td>0.0</td>\n      <td>0</td>\n    </tr>\n    <tr>\n      <th>97</th>\n      <td>0.0</td>\n      <td>0.2</td>\n      <td>0.123667</td>\n      <td>1.0</td>\n      <td>0</td>\n    </tr>\n  </tbody>\n</table>\n</div>"
     },
     "metadata": {},
     "execution_count": 18
    }
   ],
   "source": [
    "scaler = MinMaxScaler()\n",
    "X_train.iloc[:, :-1] = scaler.fit_transform(X_train.iloc[:, :-1].values)\n",
    "X_train.head()"
   ]
  },
  {
   "cell_type": "code",
   "execution_count": 19,
   "metadata": {},
   "outputs": [],
   "source": [
    "#Train validation split\n",
    "X_train, X_val, y_train, y_val = train_test_split(X_train, y_train, test_size = 0.2, random_state = 123)"
   ]
  },
  {
   "cell_type": "code",
   "execution_count": 20,
   "metadata": {},
   "outputs": [
    {
     "output_type": "stream",
     "name": "stdout",
     "text": [
      "Xtrain:  (569, 5)\nXval:  (143, 5)\nYtrain:  (569, 1)\nYval:  (143, 1)\n"
     ]
    }
   ],
   "source": [
    "print('Xtrain: ', X_train.shape)\n",
    "print('Xval: ', X_val.shape)\n",
    "print('Ytrain: ', y_train.shape)\n",
    "print('Yval: ', y_val.shape)"
   ]
  },
  {
   "source": [
    "### Preparar datos de prueba"
   ],
   "cell_type": "markdown",
   "metadata": {}
  },
  {
   "cell_type": "code",
   "execution_count": 21,
   "metadata": {},
   "outputs": [
    {
     "output_type": "execute_result",
     "data": {
      "text/plain": [
       "PassengerId           0.000000\n",
       "Name                  0.000000\n",
       "Age                   0.050967\n",
       "SibSp                 0.000000\n",
       "Parch                 0.000000\n",
       "Ticket                0.000000\n",
       "Fare                  0.000000\n",
       "Cabin                 0.230228\n",
       "Embarked              0.000000\n",
       "passenger_class       0.000000\n",
       "passenger_sex         0.000000\n",
       "passenger_survived    0.000000\n",
       "dtype: float64"
      ]
     },
     "metadata": {},
     "execution_count": 21
    }
   ],
   "source": [
    "X_test.merge(y_test, left_index = True, right_index = True).isna().sum() / len(X_train)"
   ]
  },
  {
   "cell_type": "code",
   "execution_count": 22,
   "metadata": {},
   "outputs": [],
   "source": [
    "X_test.dropna(axis = 1, how = 'any', inplace = True)"
   ]
  },
  {
   "cell_type": "code",
   "execution_count": 23,
   "metadata": {},
   "outputs": [
    {
     "output_type": "execute_result",
     "data": {
      "text/plain": [
       "     PassengerId                             Name  SibSp  Parch  Ticket  \\\n",
       "172          173     Johnson, Miss. Eleanor Ileen      1      1  347742   \n",
       "524          525                Kassem, Mr. Fared      0      0    2700   \n",
       "452          453  Foreman, Mr. Benjamin Laventall      0      0  113051   \n",
       "170          171        Van der hoef, Mr. Wyckoff      0      0  111240   \n",
       "620          621              Yasbeck, Mr. Antoni      1      0    2659   \n",
       "\n",
       "        Fare Embarked  passenger_class passenger_sex  \n",
       "172  11.1333        S              0.0             F  \n",
       "524   7.2292        C              0.0             M  \n",
       "452  27.7500        C              2.0             M  \n",
       "170  33.5000        S              2.0             M  \n",
       "620  14.4542        C              0.0             M  "
      ],
      "text/html": "<div>\n<style scoped>\n    .dataframe tbody tr th:only-of-type {\n        vertical-align: middle;\n    }\n\n    .dataframe tbody tr th {\n        vertical-align: top;\n    }\n\n    .dataframe thead th {\n        text-align: right;\n    }\n</style>\n<table border=\"1\" class=\"dataframe\">\n  <thead>\n    <tr style=\"text-align: right;\">\n      <th></th>\n      <th>PassengerId</th>\n      <th>Name</th>\n      <th>SibSp</th>\n      <th>Parch</th>\n      <th>Ticket</th>\n      <th>Fare</th>\n      <th>Embarked</th>\n      <th>passenger_class</th>\n      <th>passenger_sex</th>\n    </tr>\n  </thead>\n  <tbody>\n    <tr>\n      <th>172</th>\n      <td>173</td>\n      <td>Johnson, Miss. Eleanor Ileen</td>\n      <td>1</td>\n      <td>1</td>\n      <td>347742</td>\n      <td>11.1333</td>\n      <td>S</td>\n      <td>0.0</td>\n      <td>F</td>\n    </tr>\n    <tr>\n      <th>524</th>\n      <td>525</td>\n      <td>Kassem, Mr. Fared</td>\n      <td>0</td>\n      <td>0</td>\n      <td>2700</td>\n      <td>7.2292</td>\n      <td>C</td>\n      <td>0.0</td>\n      <td>M</td>\n    </tr>\n    <tr>\n      <th>452</th>\n      <td>453</td>\n      <td>Foreman, Mr. Benjamin Laventall</td>\n      <td>0</td>\n      <td>0</td>\n      <td>113051</td>\n      <td>27.7500</td>\n      <td>C</td>\n      <td>2.0</td>\n      <td>M</td>\n    </tr>\n    <tr>\n      <th>170</th>\n      <td>171</td>\n      <td>Van der hoef, Mr. Wyckoff</td>\n      <td>0</td>\n      <td>0</td>\n      <td>111240</td>\n      <td>33.5000</td>\n      <td>S</td>\n      <td>2.0</td>\n      <td>M</td>\n    </tr>\n    <tr>\n      <th>620</th>\n      <td>621</td>\n      <td>Yasbeck, Mr. Antoni</td>\n      <td>1</td>\n      <td>0</td>\n      <td>2659</td>\n      <td>14.4542</td>\n      <td>C</td>\n      <td>0.0</td>\n      <td>M</td>\n    </tr>\n  </tbody>\n</table>\n</div>"
     },
     "metadata": {},
     "execution_count": 23
    }
   ],
   "source": [
    "X_test['passenger_class'] = enc.transform(X_test[['passenger_class']])\n",
    "X_test.head()"
   ]
  },
  {
   "cell_type": "code",
   "execution_count": 24,
   "metadata": {},
   "outputs": [],
   "source": [
    "#X_test = pd.get_dummies(X_test, columns = ['passenger_class'])\n",
    "#X_test.drop(['passenger_class_Upper'], axis = 1, inplace = True)\n",
    "#X_test.head()"
   ]
  },
  {
   "cell_type": "code",
   "execution_count": 25,
   "metadata": {},
   "outputs": [],
   "source": [
    "X_test['isFemale'] = np.where(X_test['passenger_sex'] == 'F', 1, 0)"
   ]
  },
  {
   "cell_type": "code",
   "execution_count": 26,
   "metadata": {},
   "outputs": [
    {
     "output_type": "execute_result",
     "data": {
      "text/plain": [
       "     SibSp  Parch     Fare  passenger_class  isFemale\n",
       "172      1      1  11.1333              0.0         1\n",
       "524      0      0   7.2292              0.0         0\n",
       "452      0      0  27.7500              2.0         0\n",
       "170      0      0  33.5000              2.0         0\n",
       "620      1      0  14.4542              0.0         0"
      ],
      "text/html": "<div>\n<style scoped>\n    .dataframe tbody tr th:only-of-type {\n        vertical-align: middle;\n    }\n\n    .dataframe tbody tr th {\n        vertical-align: top;\n    }\n\n    .dataframe thead th {\n        text-align: right;\n    }\n</style>\n<table border=\"1\" class=\"dataframe\">\n  <thead>\n    <tr style=\"text-align: right;\">\n      <th></th>\n      <th>SibSp</th>\n      <th>Parch</th>\n      <th>Fare</th>\n      <th>passenger_class</th>\n      <th>isFemale</th>\n    </tr>\n  </thead>\n  <tbody>\n    <tr>\n      <th>172</th>\n      <td>1</td>\n      <td>1</td>\n      <td>11.1333</td>\n      <td>0.0</td>\n      <td>1</td>\n    </tr>\n    <tr>\n      <th>524</th>\n      <td>0</td>\n      <td>0</td>\n      <td>7.2292</td>\n      <td>0.0</td>\n      <td>0</td>\n    </tr>\n    <tr>\n      <th>452</th>\n      <td>0</td>\n      <td>0</td>\n      <td>27.7500</td>\n      <td>2.0</td>\n      <td>0</td>\n    </tr>\n    <tr>\n      <th>170</th>\n      <td>0</td>\n      <td>0</td>\n      <td>33.5000</td>\n      <td>2.0</td>\n      <td>0</td>\n    </tr>\n    <tr>\n      <th>620</th>\n      <td>1</td>\n      <td>0</td>\n      <td>14.4542</td>\n      <td>0.0</td>\n      <td>0</td>\n    </tr>\n  </tbody>\n</table>\n</div>"
     },
     "metadata": {},
     "execution_count": 26
    }
   ],
   "source": [
    "X_test.drop(['PassengerId', 'Name', 'Ticket', 'passenger_sex', 'Embarked'], axis = 1, inplace = True)\n",
    "X_test.head()"
   ]
  },
  {
   "cell_type": "code",
   "execution_count": 27,
   "metadata": {},
   "outputs": [
    {
     "output_type": "execute_result",
     "data": {
      "text/plain": [
       "     passenger_survived\n",
       "172                   1\n",
       "524                   0\n",
       "452                   0\n",
       "170                   0\n",
       "620                   0"
      ],
      "text/html": "<div>\n<style scoped>\n    .dataframe tbody tr th:only-of-type {\n        vertical-align: middle;\n    }\n\n    .dataframe tbody tr th {\n        vertical-align: top;\n    }\n\n    .dataframe thead th {\n        text-align: right;\n    }\n</style>\n<table border=\"1\" class=\"dataframe\">\n  <thead>\n    <tr style=\"text-align: right;\">\n      <th></th>\n      <th>passenger_survived</th>\n    </tr>\n  </thead>\n  <tbody>\n    <tr>\n      <th>172</th>\n      <td>1</td>\n    </tr>\n    <tr>\n      <th>524</th>\n      <td>0</td>\n    </tr>\n    <tr>\n      <th>452</th>\n      <td>0</td>\n    </tr>\n    <tr>\n      <th>170</th>\n      <td>0</td>\n    </tr>\n    <tr>\n      <th>620</th>\n      <td>0</td>\n    </tr>\n  </tbody>\n</table>\n</div>"
     },
     "metadata": {},
     "execution_count": 27
    }
   ],
   "source": [
    "y_test['passenger_survived'] = np.where(y_test['passenger_survived'] == 'Y', 1, 0)\n",
    "y_test.head()"
   ]
  },
  {
   "cell_type": "code",
   "execution_count": 28,
   "metadata": {},
   "outputs": [
    {
     "output_type": "execute_result",
     "data": {
      "text/plain": [
       "     SibSp     Parch      Fare  passenger_class  isFemale\n",
       "172    0.2  0.166667  0.044979              0.0         1\n",
       "524    0.0  0.000000  0.029206              0.0         0\n",
       "452    0.0  0.000000  0.112112              1.0         0\n",
       "170    0.0  0.000000  0.135342              1.0         0\n",
       "620    0.2  0.000000  0.058396              0.0         0"
      ],
      "text/html": "<div>\n<style scoped>\n    .dataframe tbody tr th:only-of-type {\n        vertical-align: middle;\n    }\n\n    .dataframe tbody tr th {\n        vertical-align: top;\n    }\n\n    .dataframe thead th {\n        text-align: right;\n    }\n</style>\n<table border=\"1\" class=\"dataframe\">\n  <thead>\n    <tr style=\"text-align: right;\">\n      <th></th>\n      <th>SibSp</th>\n      <th>Parch</th>\n      <th>Fare</th>\n      <th>passenger_class</th>\n      <th>isFemale</th>\n    </tr>\n  </thead>\n  <tbody>\n    <tr>\n      <th>172</th>\n      <td>0.2</td>\n      <td>0.166667</td>\n      <td>0.044979</td>\n      <td>0.0</td>\n      <td>1</td>\n    </tr>\n    <tr>\n      <th>524</th>\n      <td>0.0</td>\n      <td>0.000000</td>\n      <td>0.029206</td>\n      <td>0.0</td>\n      <td>0</td>\n    </tr>\n    <tr>\n      <th>452</th>\n      <td>0.0</td>\n      <td>0.000000</td>\n      <td>0.112112</td>\n      <td>1.0</td>\n      <td>0</td>\n    </tr>\n    <tr>\n      <th>170</th>\n      <td>0.0</td>\n      <td>0.000000</td>\n      <td>0.135342</td>\n      <td>1.0</td>\n      <td>0</td>\n    </tr>\n    <tr>\n      <th>620</th>\n      <td>0.2</td>\n      <td>0.000000</td>\n      <td>0.058396</td>\n      <td>0.0</td>\n      <td>0</td>\n    </tr>\n  </tbody>\n</table>\n</div>"
     },
     "metadata": {},
     "execution_count": 28
    }
   ],
   "source": [
    "scaler = MinMaxScaler()\n",
    "X_test.iloc[:, :-1] = scaler.fit_transform(X_test.iloc[:, :-1].values)\n",
    "X_test.head()"
   ]
  },
  {
   "source": [
    "### Definición de Modelos"
   ],
   "cell_type": "markdown",
   "metadata": {}
  },
  {
   "cell_type": "code",
   "execution_count": 29,
   "metadata": {},
   "outputs": [],
   "source": [
    "def train_decisionTree(x, y, criterion = 'entropy', depth = None, min_split = 2):\n",
    "    \n",
    "    #Define model training\n",
    "    clf = tree.DecisionTreeClassifier(criterion = criterion, max_depth = depth, min_samples_split = min_split)\n",
    "    clf = clf.fit(x.values, y.values)\n",
    "\n",
    "    #Define configuration string\n",
    "    features = '_'.join(list(x.columns))\n",
    "    config_str = 'decisionTree_criterion={}_depth={}_minsplit={}__'.format(criterion, depth, min_split) + features\n",
    "    \n",
    "    return clf, config_str\n",
    "    #tree.plot_tree(clf)"
   ]
  },
  {
   "cell_type": "code",
   "execution_count": 30,
   "metadata": {},
   "outputs": [],
   "source": [
    "def train_SVM(x, y, c = 1, kernel = 'rbf'):\n",
    "    \n",
    "    #Define model training\n",
    "    clf = svm.SVC(C = c, kernel = kernel)\n",
    "    clf = clf.fit(x.values, np.squeeze(y.values, axis = 1))\n",
    "\n",
    "    #Define configuration string\n",
    "    features = '_'.join(list(x.columns))\n",
    "    config_str = 'SVM_C={}_kernel={}__'.format(c, kernel) + features\n",
    "    \n",
    "    return clf, config_str\n"
   ]
  },
  {
   "cell_type": "code",
   "execution_count": 31,
   "metadata": {},
   "outputs": [],
   "source": [
    "def train_NaiveBayes(x, y):\n",
    "    data = x.merge(y, left_index = True, right_index = True)\n",
    "    metrics_summary = data.groupby('passenger_survived', as_index = True).agg(['mean', 'std'])\n",
    "    class_probs = data['passenger_survived'].value_counts(normalize = True).to_frame(name = 'class_prob')\n",
    "    class_probs.columns = pd.MultiIndex.from_product([class_probs.columns, ['prob']])\n",
    "    model = metrics_summary.merge(class_probs, left_index = True, right_index = True)\n",
    "\n",
    "    features = '_'.join(list(x.columns))\n",
    "    config_str = 'NaiveBayes__' + features\n",
    "\n",
    "    return model, config_str"
   ]
  },
  {
   "cell_type": "code",
   "execution_count": 32,
   "metadata": {},
   "outputs": [],
   "source": [
    "#[i for i in range(0, X_train.shape[1])]"
   ]
  },
  {
   "cell_type": "code",
   "execution_count": 33,
   "metadata": {},
   "outputs": [],
   "source": [
    "def train_LogReg(x, y, lr = 0.1, lambda_reg = 0, regType = 'l2', epochs = 100, batch_size = 1, kprint = 10):\n",
    "    \n",
    "    #Get total iterations\n",
    "    iters = x.shape[0] // batch_size\n",
    "\n",
    "    #Initialize the graph\n",
    "    tf.reset_default_graph()\n",
    "\n",
    "    #Defining tensors and variables\n",
    "    X = tf.placeholder(dtype = tf.float32, shape = [None, x.shape[1] + 1], name = 'features')\n",
    "    labels = tf.placeholder(dtype = tf.float32, shape = [None, 1], name = 'class_labels')\n",
    "    W = tf.get_variable(name = 'weights', shape = [x.shape[1] + 1, 1], dtype = tf.float32, initializer = tf.zeros_initializer())\n",
    "\n",
    "    #Estimating values\n",
    "    Z = tf.matmul(X, W, name = 'logit')\n",
    "    preds = tf.nn.sigmoid(Z, name = 'yhat')\n",
    "\n",
    "    #Calculating cost function (cross entropy)\n",
    "    with tf.name_scope('cost_function'):\n",
    "        if regType == 'l1':\n",
    "            regularizer = tf.reduce_sum(tf.abs(tf.gather(W, [idx for idx in range(1, x.shape[1] + 1 )])), name = 'regularizer')\n",
    "        else:\n",
    "            regularizer = tf.nn.l2_loss(tf.gather(W, [idx for idx in range(1, x.shape[1] + 1 )]))\n",
    "            \n",
    "        loss = tf.reduce_mean(tf.nn.sigmoid_cross_entropy_with_logits(labels = labels, logits = Z, name = 'loss'))\n",
    "        reg_loss = tf.add(loss, lambda_reg * regularizer, name = 'loss_with_reg')\n",
    "\n",
    "    #Tensorboard scalar summary\n",
    "    loss_summary = tf.summary.scalar(name = 'CrossEntropy', tensor = reg_loss)\n",
    "\n",
    "    #Calculate accuracy\n",
    "    with tf.name_scope('accuracy_definition'):\n",
    "        correct_prediction = tf.equal(tf.round(preds), labels, name = 'compare_labels')\n",
    "        accuracy_tensor = tf.reduce_mean(tf.cast(correct_prediction, tf.float32), name = 'accuracy_metric')\n",
    "\n",
    "    #Tensorboard scalar accuracy\n",
    "    accuracy_summary = tf.summary.scalar(name = 'Accuracy', tensor = accuracy_tensor)\n",
    "\n",
    "    #Gradient and cost error optimization\n",
    "    with tf.name_scope('optimize_loss'):\n",
    "        gradients = tf.gradients(reg_loss, [W], name = 'gradients')\n",
    "        optimizer = tf.assign(W, W - lr * gradients[0], name = 'optimizer')\n",
    "\n",
    "\n",
    "    with tf.Session() as session:\n",
    "\n",
    "        #Initialize global vars\n",
    "        session.run(tf.global_variables_initializer())\n",
    "\n",
    "        #Reshaping data\n",
    "        features = '_'.join(list(x.columns))\n",
    "        ones = np.expand_dims(np.ones_like(x.values[:,0]), axis = 1)\n",
    "        x = np.hstack((ones, x.values))\n",
    "        y = y.values\n",
    "\n",
    "        #Whole batch dictionary\n",
    "        feed_dict_model = {X:x, labels:y}\n",
    "\n",
    "        #Define tensorboard writer\n",
    "        config_str = 'regLog_lr={}_reg={}_lambda={}_mbatch={}_epochs={}__'.format(lr, regType, lambda_reg, batch_size, epochs) + features\n",
    "        writer = tf.summary.FileWriter('./graphs/' + config_str, session.graph)\n",
    "\n",
    "        for epoch in range(0, epochs):\n",
    "            for i in range(0, iters):\n",
    "                start_sample = i * batch_size\n",
    "                end_sample = start_sample + batch_size\n",
    "                x_mb = x[start_sample:end_sample]\n",
    "                y_mb = y[start_sample:end_sample]\n",
    "\n",
    "                feed_dict = {X:x_mb, labels:y_mb}\n",
    "                _, weights = session.run([optimizer, W], feed_dict = feed_dict)\n",
    "\n",
    "            predictions = session.run([preds], feed_dict = feed_dict_model)\n",
    "            cross_entropy, lsummary = session.run([reg_loss, loss_summary], feed_dict = feed_dict_model)\n",
    "            writer.add_summary(lsummary, epoch + 1)\n",
    "\n",
    "            cpreds, accuracy, asummary = session.run([correct_prediction, accuracy_tensor, accuracy_summary], feed_dict = feed_dict_model)\n",
    "            writer.add_summary(asummary, epoch + 1)\n",
    "\n",
    "            if (epoch + 1) % kprint == 0:\n",
    "                print(\"Epoch {}: CrossEntropy={} --- Accuracy={}\".format(epoch + 1, cross_entropy, accuracy))\n",
    "            \n",
    "\n",
    "        #Calculate final model metrics\n",
    "        _, weights = session.run([optimizer, W], feed_dict = feed_dict_model)\n",
    "        predictions, cross_entropy = session.run([preds, reg_loss], feed_dict = feed_dict_model)\n",
    "        cpreds, accuracy = session.run([correct_prediction, accuracy_tensor], feed_dict = feed_dict_model)\n",
    "        print(\"Final model: CrossEntropy={} --- Accuracy={}\".format(cross_entropy, accuracy))\n",
    "\n",
    "        #Close tensorboard writer\n",
    "        writer.close()\n",
    "\n",
    "        return weights, config_str"
   ]
  },
  {
   "source": [
    "### Validación de Modelos y Experimentación"
   ],
   "cell_type": "markdown",
   "metadata": {}
  },
  {
   "cell_type": "code",
   "execution_count": 34,
   "metadata": {},
   "outputs": [
    {
     "output_type": "execute_result",
     "data": {
      "text/plain": [
       "Index(['SibSp', 'Parch', 'Fare', 'passenger_class', 'isFemale'], dtype='object')"
      ]
     },
     "metadata": {},
     "execution_count": 34
    }
   ],
   "source": [
    "X_train.columns"
   ]
  },
  {
   "cell_type": "code",
   "execution_count": null,
   "metadata": {},
   "outputs": [],
   "source": [
    "#X_train = X_train[X_train.columns.difference(['Parch'])]\n",
    "#X_val = X_val[X_val.columns.difference(['Parch'])]\n",
    "#X_test = X_test[X_test.columns.difference(['Parch'])]\n",
    "#X_train.columns"
   ]
  },
  {
   "cell_type": "code",
   "execution_count": 36,
   "metadata": {},
   "outputs": [
    {
     "output_type": "stream",
     "name": "stdout",
     "text": [
      "Epoch 20: CrossEntropy=0.6010321378707886 --- Accuracy=0.7587939500808716\n",
      "Epoch 40: CrossEntropy=0.554241418838501 --- Accuracy=0.7587939500808716\n",
      "Epoch 60: CrossEntropy=0.5287628173828125 --- Accuracy=0.7613065242767334\n",
      "Epoch 80: CrossEntropy=0.5139385461807251 --- Accuracy=0.7613065242767334\n",
      "Epoch 100: CrossEntropy=0.5048167109489441 --- Accuracy=0.7613065242767334\n",
      "Epoch 120: CrossEntropy=0.49894458055496216 --- Accuracy=0.7613065242767334\n",
      "Epoch 140: CrossEntropy=0.49502238631248474 --- Accuracy=0.7587939500808716\n",
      "Epoch 160: CrossEntropy=0.49232274293899536 --- Accuracy=0.7512562870979309\n",
      "Epoch 180: CrossEntropy=0.4904175400733948 --- Accuracy=0.7487437129020691\n",
      "Epoch 200: CrossEntropy=0.48904383182525635 --- Accuracy=0.7437185645103455\n",
      "Final model: CrossEntropy=0.48904213309288025 --- Accuracy=0.7437185645103455\n"
     ]
    }
   ],
   "source": [
    "#model, config_str = train_decisionTree(X_train.sample(frac = 0.7, random_state = 1), y_train.sample(frac = 0.7, random_state = 1), depth = 10, criterion = 'entropy')\n",
    "#model, config_str = train_SVM(X_train.sample(frac = 0.7, random_state = 2), y_train.sample(frac = 0.7, random_state = 2), c = 4, kernel = 'rbf')\n",
    "#model, config_str = train_NaiveBayes(X_train.sample(frac = 0.7, random_state = 3), y_train.sample(frac = 0.7, random_state = 3),)\n",
    "model, config_str = train_LogReg(X_train.sample(frac = 0.7, random_state = 4), y_train.sample(frac = 0.7, random_state = 4), lr = 0.01, lambda_reg = 0.0001, regType = 'l1', epochs = 200, batch_size = 10, kprint = 20)"
   ]
  },
  {
   "cell_type": "code",
   "execution_count": null,
   "metadata": {},
   "outputs": [],
   "source": [
    "#tree.plot_tree(model, filled = True)\n",
    "#plt.show()"
   ]
  },
  {
   "cell_type": "code",
   "execution_count": 37,
   "metadata": {
    "tags": []
   },
   "outputs": [
    {
     "output_type": "execute_result",
     "data": {
      "text/plain": [
       "array([0, 0, 1, 1, 0, 0, 0, 0, 1, 1, 1, 1, 1, 0, 0, 0, 0, 1, 0, 0, 1, 1,\n",
       "       0, 1, 1, 1, 0, 1, 0, 1, 0, 1, 0, 0, 0, 1, 0, 0, 1, 1, 0, 1, 0, 0,\n",
       "       0, 1, 0, 0, 0, 1, 0, 0, 0, 0, 0, 0, 0, 1, 1, 0, 0, 0, 0, 1, 1, 0,\n",
       "       1, 0, 0, 1, 0, 0, 0, 0, 1, 0, 1, 1, 0, 1, 0, 0, 0, 1, 0, 0, 1, 1,\n",
       "       0, 0, 0, 0, 1, 1, 0, 0, 1, 1, 0, 0, 0, 0, 0, 0, 0, 1, 0, 1, 0, 1,\n",
       "       0, 0, 0, 0, 0, 1, 0, 0, 0, 1, 0, 1, 1, 0, 0, 1, 0, 0, 1, 0, 1, 0,\n",
       "       0, 1, 1, 0, 0, 0, 1, 1, 0, 0, 0])"
      ]
     },
     "metadata": {},
     "execution_count": 37
    }
   ],
   "source": [
    "#y_pred = getModelPredictions(model, X_val, model_type = 'decisionTree')\n",
    "#y_pred = getModelPredictions(model, X_val, model_type = 'SVM')\n",
    "#y_pred = getModelPredictions(model, X_val, model_type = 'NaiveBayes')\n",
    "y_pred = getModelPredictions(model, X_val, model_type = 'regLog')\n",
    "y_pred"
   ]
  },
  {
   "cell_type": "code",
   "execution_count": 38,
   "metadata": {},
   "outputs": [
    {
     "output_type": "execute_result",
     "data": {
      "text/plain": [
       "                                               model  accuracy   error  \\\n",
       "0  regLog_lr=0.01_reg=l1_lambda=0.0001_mbatch=10_...    0.7902  0.2098   \n",
       "\n",
       "   precision  recall  f1-score  \n",
       "0      0.717   0.717     0.717  "
      ],
      "text/html": "<div>\n<style scoped>\n    .dataframe tbody tr th:only-of-type {\n        vertical-align: middle;\n    }\n\n    .dataframe tbody tr th {\n        vertical-align: top;\n    }\n\n    .dataframe thead th {\n        text-align: right;\n    }\n</style>\n<table border=\"1\" class=\"dataframe\">\n  <thead>\n    <tr style=\"text-align: right;\">\n      <th></th>\n      <th>model</th>\n      <th>accuracy</th>\n      <th>error</th>\n      <th>precision</th>\n      <th>recall</th>\n      <th>f1-score</th>\n    </tr>\n  </thead>\n  <tbody>\n    <tr>\n      <th>0</th>\n      <td>regLog_lr=0.01_reg=l1_lambda=0.0001_mbatch=10_...</td>\n      <td>0.7902</td>\n      <td>0.2098</td>\n      <td>0.717</td>\n      <td>0.717</td>\n      <td>0.717</td>\n    </tr>\n  </tbody>\n</table>\n</div>"
     },
     "metadata": {},
     "execution_count": 38
    }
   ],
   "source": [
    "model_metrics = getMetrics(config_str, y_val.values, y_pred)\n",
    "model_metrics"
   ]
  },
  {
   "cell_type": "code",
   "execution_count": 39,
   "metadata": {},
   "outputs": [
    {
     "output_type": "execute_result",
     "data": {
      "text/plain": [
       "'regLog_lr=0.01_reg=l1_lambda=0.0001_mbatch=10_epochs=200__SibSp_Parch_Fare_passenger_class_isFemale'"
      ]
     },
     "metadata": {},
     "execution_count": 39
    }
   ],
   "source": [
    "model_metrics['model'].values[0]"
   ]
  },
  {
   "cell_type": "code",
   "execution_count": 40,
   "metadata": {},
   "outputs": [
    {
     "output_type": "stream",
     "name": "stdout",
     "text": [
      "Model results saved succesfully\n"
     ]
    }
   ],
   "source": [
    "#writeModelResults(model_metrics, model, model_type = 'decisionTree')\n",
    "#writeModelResults(model_metrics, model, model_type = 'SVM')\n",
    "#writeModelResults(model_metrics, model, model_type = 'NaiveBayes')\n",
    "writeModelResults(model_metrics, model, model_type = 'regLog')"
   ]
  },
  {
   "source": [
    "### Selección de modelos"
   ],
   "cell_type": "markdown",
   "metadata": {}
  },
  {
   "cell_type": "code",
   "execution_count": 41,
   "metadata": {},
   "outputs": [
    {
     "output_type": "execute_result",
     "data": {
      "text/plain": [
       "                                               model  accuracy   error  \\\n",
       "0  decisionTree_criterion=entropy_depth=None_mins...    0.8042  0.1958   \n",
       "1  decisionTree_criterion=entropy_depth=10_minspl...    0.8112  0.1888   \n",
       "2  decisionTree_criterion=gini_depth=10_minsplit=...    0.7972  0.2028   \n",
       "3  SVM_C=1_kernel=rbf__SibSp_Parch_Fare_passenger...    0.7832  0.2168   \n",
       "4  SVM_C=2_kernel=rbf__SibSp_Parch_Fare_passenger...    0.8252  0.1748   \n",
       "\n",
       "   precision  recall  f1-score    model_type  \n",
       "0     0.7358  0.7358    0.7358  decisionTree  \n",
       "1     0.7708  0.6981    0.7327  decisionTree  \n",
       "2     0.7308  0.7170    0.7238  decisionTree  \n",
       "3     0.9231  0.4528    0.6076           SVM  \n",
       "4     0.8684  0.6226    0.7253           SVM  "
      ],
      "text/html": "<div>\n<style scoped>\n    .dataframe tbody tr th:only-of-type {\n        vertical-align: middle;\n    }\n\n    .dataframe tbody tr th {\n        vertical-align: top;\n    }\n\n    .dataframe thead th {\n        text-align: right;\n    }\n</style>\n<table border=\"1\" class=\"dataframe\">\n  <thead>\n    <tr style=\"text-align: right;\">\n      <th></th>\n      <th>model</th>\n      <th>accuracy</th>\n      <th>error</th>\n      <th>precision</th>\n      <th>recall</th>\n      <th>f1-score</th>\n      <th>model_type</th>\n    </tr>\n  </thead>\n  <tbody>\n    <tr>\n      <th>0</th>\n      <td>decisionTree_criterion=entropy_depth=None_mins...</td>\n      <td>0.8042</td>\n      <td>0.1958</td>\n      <td>0.7358</td>\n      <td>0.7358</td>\n      <td>0.7358</td>\n      <td>decisionTree</td>\n    </tr>\n    <tr>\n      <th>1</th>\n      <td>decisionTree_criterion=entropy_depth=10_minspl...</td>\n      <td>0.8112</td>\n      <td>0.1888</td>\n      <td>0.7708</td>\n      <td>0.6981</td>\n      <td>0.7327</td>\n      <td>decisionTree</td>\n    </tr>\n    <tr>\n      <th>2</th>\n      <td>decisionTree_criterion=gini_depth=10_minsplit=...</td>\n      <td>0.7972</td>\n      <td>0.2028</td>\n      <td>0.7308</td>\n      <td>0.7170</td>\n      <td>0.7238</td>\n      <td>decisionTree</td>\n    </tr>\n    <tr>\n      <th>3</th>\n      <td>SVM_C=1_kernel=rbf__SibSp_Parch_Fare_passenger...</td>\n      <td>0.7832</td>\n      <td>0.2168</td>\n      <td>0.9231</td>\n      <td>0.4528</td>\n      <td>0.6076</td>\n      <td>SVM</td>\n    </tr>\n    <tr>\n      <th>4</th>\n      <td>SVM_C=2_kernel=rbf__SibSp_Parch_Fare_passenger...</td>\n      <td>0.8252</td>\n      <td>0.1748</td>\n      <td>0.8684</td>\n      <td>0.6226</td>\n      <td>0.7253</td>\n      <td>SVM</td>\n    </tr>\n  </tbody>\n</table>\n</div>"
     },
     "metadata": {},
     "execution_count": 41
    }
   ],
   "source": [
    "results = pd.read_csv('./results/model_results.csv')\n",
    "results['model_type'] = results['model'].apply(lambda row: row.split('_', 1)[0])\n",
    "results.head()"
   ]
  },
  {
   "cell_type": "code",
   "execution_count": 42,
   "metadata": {},
   "outputs": [
    {
     "output_type": "stream",
     "name": "stderr",
     "text": [
      "d:\\cgarcia\\Galileo\\2do_Trimestre\\StatisticalLearning_I\\project\\auxiliaryFunctions.py:149: FutureWarning: Indexing with multiple keys (implicitly converted to a tuple of keys) will be deprecated, use a list instead.\n  top_models = df.groupby('model_type')['accuracy', 'model'].max()\n"
     ]
    },
    {
     "output_type": "execute_result",
     "data": {
      "text/plain": [
       "              accuracy                                              model\n",
       "model_type                                                               \n",
       "NaiveBayes      0.8112  NaiveBayes__SibSp_Parch_Fare_passenger_class_i...\n",
       "SVM             0.8322  SVM_C=4_kernel=rbf__SibSp_Parch_Fare_passenger...\n",
       "decisionTree    0.8112  decisionTree_criterion=gini_depth=10_minsplit=...\n",
       "regLog          0.8112  regLog_lr=0.1_reg=l2_lambda=0.001_mbatch=20_ep..."
      ],
      "text/html": "<div>\n<style scoped>\n    .dataframe tbody tr th:only-of-type {\n        vertical-align: middle;\n    }\n\n    .dataframe tbody tr th {\n        vertical-align: top;\n    }\n\n    .dataframe thead th {\n        text-align: right;\n    }\n</style>\n<table border=\"1\" class=\"dataframe\">\n  <thead>\n    <tr style=\"text-align: right;\">\n      <th></th>\n      <th>accuracy</th>\n      <th>model</th>\n    </tr>\n    <tr>\n      <th>model_type</th>\n      <th></th>\n      <th></th>\n    </tr>\n  </thead>\n  <tbody>\n    <tr>\n      <th>NaiveBayes</th>\n      <td>0.8112</td>\n      <td>NaiveBayes__SibSp_Parch_Fare_passenger_class_i...</td>\n    </tr>\n    <tr>\n      <th>SVM</th>\n      <td>0.8322</td>\n      <td>SVM_C=4_kernel=rbf__SibSp_Parch_Fare_passenger...</td>\n    </tr>\n    <tr>\n      <th>decisionTree</th>\n      <td>0.8112</td>\n      <td>decisionTree_criterion=gini_depth=10_minsplit=...</td>\n    </tr>\n    <tr>\n      <th>regLog</th>\n      <td>0.8112</td>\n      <td>regLog_lr=0.1_reg=l2_lambda=0.001_mbatch=20_ep...</td>\n    </tr>\n  </tbody>\n</table>\n</div>"
     },
     "metadata": {},
     "execution_count": 42
    }
   ],
   "source": [
    "top_models = get_topModels(results)\n",
    "top_models"
   ]
  },
  {
   "source": [
    "### Predicciones"
   ],
   "cell_type": "markdown",
   "metadata": {}
  },
  {
   "cell_type": "code",
   "execution_count": 43,
   "metadata": {},
   "outputs": [
    {
     "output_type": "execute_result",
     "data": {
      "text/plain": [
       "   NaiveBayes  SVM  decisionTree  regLog  mode\n",
       "0           1    0             1       1     1\n",
       "1           0    0             0       0     0\n",
       "2           0    0             0       1     0\n",
       "3           1    0             1       1     1\n",
       "4           0    0             0       0     0"
      ],
      "text/html": "<div>\n<style scoped>\n    .dataframe tbody tr th:only-of-type {\n        vertical-align: middle;\n    }\n\n    .dataframe tbody tr th {\n        vertical-align: top;\n    }\n\n    .dataframe thead th {\n        text-align: right;\n    }\n</style>\n<table border=\"1\" class=\"dataframe\">\n  <thead>\n    <tr style=\"text-align: right;\">\n      <th></th>\n      <th>NaiveBayes</th>\n      <th>SVM</th>\n      <th>decisionTree</th>\n      <th>regLog</th>\n      <th>mode</th>\n    </tr>\n  </thead>\n  <tbody>\n    <tr>\n      <th>0</th>\n      <td>1</td>\n      <td>0</td>\n      <td>1</td>\n      <td>1</td>\n      <td>1</td>\n    </tr>\n    <tr>\n      <th>1</th>\n      <td>0</td>\n      <td>0</td>\n      <td>0</td>\n      <td>0</td>\n      <td>0</td>\n    </tr>\n    <tr>\n      <th>2</th>\n      <td>0</td>\n      <td>0</td>\n      <td>0</td>\n      <td>1</td>\n      <td>0</td>\n    </tr>\n    <tr>\n      <th>3</th>\n      <td>1</td>\n      <td>0</td>\n      <td>1</td>\n      <td>1</td>\n      <td>1</td>\n    </tr>\n    <tr>\n      <th>4</th>\n      <td>0</td>\n      <td>0</td>\n      <td>0</td>\n      <td>0</td>\n      <td>0</td>\n    </tr>\n  </tbody>\n</table>\n</div>"
     },
     "metadata": {},
     "execution_count": 43
    }
   ],
   "source": [
    "predictions_df = ensemblePredictions(top_models, X_test)\n",
    "predictions_df.head()"
   ]
  },
  {
   "cell_type": "code",
   "execution_count": 44,
   "metadata": {},
   "outputs": [
    {
     "output_type": "execute_result",
     "data": {
      "text/plain": [
       "          model  accuracy   error  precision  recall  f1-score\n",
       "0    NaiveBayes    0.7877  0.2123     0.6753  0.8000    0.7324\n",
       "1           SVM    0.8436  0.1564     0.8776  0.6615    0.7544\n",
       "2  decisionTree    0.8212  0.1788     0.7797  0.7077    0.7419\n",
       "3        regLog    0.7598  0.2402     0.6375  0.7846    0.7034\n",
       "4          mode    0.8492  0.1508     0.8393  0.7231    0.7769"
      ],
      "text/html": "<div>\n<style scoped>\n    .dataframe tbody tr th:only-of-type {\n        vertical-align: middle;\n    }\n\n    .dataframe tbody tr th {\n        vertical-align: top;\n    }\n\n    .dataframe thead th {\n        text-align: right;\n    }\n</style>\n<table border=\"1\" class=\"dataframe\">\n  <thead>\n    <tr style=\"text-align: right;\">\n      <th></th>\n      <th>model</th>\n      <th>accuracy</th>\n      <th>error</th>\n      <th>precision</th>\n      <th>recall</th>\n      <th>f1-score</th>\n    </tr>\n  </thead>\n  <tbody>\n    <tr>\n      <th>0</th>\n      <td>NaiveBayes</td>\n      <td>0.7877</td>\n      <td>0.2123</td>\n      <td>0.6753</td>\n      <td>0.8000</td>\n      <td>0.7324</td>\n    </tr>\n    <tr>\n      <th>1</th>\n      <td>SVM</td>\n      <td>0.8436</td>\n      <td>0.1564</td>\n      <td>0.8776</td>\n      <td>0.6615</td>\n      <td>0.7544</td>\n    </tr>\n    <tr>\n      <th>2</th>\n      <td>decisionTree</td>\n      <td>0.8212</td>\n      <td>0.1788</td>\n      <td>0.7797</td>\n      <td>0.7077</td>\n      <td>0.7419</td>\n    </tr>\n    <tr>\n      <th>3</th>\n      <td>regLog</td>\n      <td>0.7598</td>\n      <td>0.2402</td>\n      <td>0.6375</td>\n      <td>0.7846</td>\n      <td>0.7034</td>\n    </tr>\n    <tr>\n      <th>4</th>\n      <td>mode</td>\n      <td>0.8492</td>\n      <td>0.1508</td>\n      <td>0.8393</td>\n      <td>0.7231</td>\n      <td>0.7769</td>\n    </tr>\n  </tbody>\n</table>\n</div>"
     },
     "metadata": {},
     "execution_count": 44
    }
   ],
   "source": [
    "model_metrics = ensembleMetrics(predictions_df, y_test)\n",
    "model_metrics"
   ]
  },
  {
   "source": [
    "### Tensorboard"
   ],
   "cell_type": "markdown",
   "metadata": {}
  },
  {
   "source": [
    "#### Grafos"
   ],
   "cell_type": "markdown",
   "metadata": {}
  },
  {
   "source": [
    "<img src='./imgs/train_graph.png'>\n",
    "<img src='./imgs/predictions_graph.png'>"
   ],
   "cell_type": "markdown",
   "metadata": {}
  },
  {
   "source": [
    "#### CrossEntropy"
   ],
   "cell_type": "markdown",
   "metadata": {}
  },
  {
   "source": [
    "<img src='./imgs/cross_entropy.png'>"
   ],
   "cell_type": "markdown",
   "metadata": {}
  },
  {
   "source": [
    "### Conclusiones"
   ],
   "cell_type": "markdown",
   "metadata": {}
  },
  {
   "source": [
    "- Agregar sección de conclusiones y recomendaciones (incluyendo opiniones,experiencias ,dificultades y lecciones aprendidas)."
   ],
   "cell_type": "markdown",
   "metadata": {}
  }
 ]
}