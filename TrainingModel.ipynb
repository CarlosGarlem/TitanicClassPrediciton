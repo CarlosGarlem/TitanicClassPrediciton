{
 "metadata": {
  "language_info": {
   "codemirror_mode": {
    "name": "ipython",
    "version": 3
   },
   "file_extension": ".py",
   "mimetype": "text/x-python",
   "name": "python",
   "nbconvert_exporter": "python",
   "pygments_lexer": "ipython3",
   "version": "3.9.4"
  },
  "orig_nbformat": 4,
  "kernelspec": {
   "name": "python3",
   "display_name": "Python 3.9.4 64-bit ('pydsEnv': conda)"
  },
  "interpreter": {
   "hash": "cd92519e450c25804136c2008eef24c3d70be2e96d599be5f96d22ea88f45fe2"
  }
 },
 "nbformat": 4,
 "nbformat_minor": 2,
 "cells": [
  {
   "source": [
    "Proyecto Clasificacion Binaria - Carlos Garcia 21000475"
   ],
   "cell_type": "markdown",
   "metadata": {}
  },
  {
   "source": [
    "### Librerias"
   ],
   "cell_type": "markdown",
   "metadata": {}
  },
  {
   "cell_type": "code",
   "execution_count": 1,
   "metadata": {},
   "outputs": [],
   "source": [
    "import tensorflow as tf\n",
    "from tensorflow import keras\n",
    "\n",
    "import numpy as np\n",
    "import pandas as pd\n",
    "from datetime import datetime\n",
    "import matplotlib.pyplot as plt"
   ]
  },
  {
   "cell_type": "code",
   "execution_count": 2,
   "metadata": {},
   "outputs": [],
   "source": [
    "from sklearn.model_selection import train_test_split\n",
    "from sklearn.preprocessing import MinMaxScaler, OneHotEncoder, LabelEncoder, OrdinalEncoder\n",
    "from sklearn import svm, tree\n",
    "from sklearn import metrics\n",
    "from joblib import dump, load"
   ]
  },
  {
   "cell_type": "code",
   "execution_count": 3,
   "metadata": {},
   "outputs": [
    {
     "output_type": "stream",
     "name": "stdout",
     "text": [
      "WARNING:tensorflow:From d:\\anaconda3\\envs\\pydsEnv\\lib\\site-packages\\tensorflow\\python\\compat\\v2_compat.py:96: disable_resource_variables (from tensorflow.python.ops.variable_scope) is deprecated and will be removed in a future version.\n",
      "Instructions for updating:\n",
      "non-resource variables are not supported in the long term\n",
      "Enabled compatitility to tf1.x\n"
     ]
    }
   ],
   "source": [
    "if tf.__version__.startswith(\"2.\"):\n",
    "  import tensorflow.compat.v1 as tf\n",
    "  tf.compat.v1.disable_v2_behavior()\n",
    "  tf.compat.v1.disable_eager_execution()\n",
    "  print(\"Enabled compatitility to tf1.x\")"
   ]
  },
  {
   "source": [
    "### Obtencion de datos"
   ],
   "cell_type": "markdown",
   "metadata": {}
  },
  {
   "cell_type": "code",
   "execution_count": 4,
   "metadata": {},
   "outputs": [
    {
     "output_type": "execute_result",
     "data": {
      "text/plain": [
       "   PassengerId                                               Name   Age  \\\n",
       "0            1                            Braund, Mr. Owen Harris  22.0   \n",
       "1            2  Cumings, Mrs. John Bradley (Florence Briggs Th...  38.0   \n",
       "2            3                             Heikkinen, Miss. Laina  26.0   \n",
       "3            4       Futrelle, Mrs. Jacques Heath (Lily May Peel)  35.0   \n",
       "4            5                           Allen, Mr. William Henry  35.0   \n",
       "\n",
       "   SibSp  Parch            Ticket     Fare Cabin Embarked passenger_class  \\\n",
       "0      1      0         A/5 21171   7.2500   NaN        S           Lower   \n",
       "1      1      0          PC 17599  71.2833   C85        C           Upper   \n",
       "2      0      0  STON/O2. 3101282   7.9250   NaN        S           Lower   \n",
       "3      1      0            113803  53.1000  C123        S           Upper   \n",
       "4      0      0            373450   8.0500   NaN        S           Lower   \n",
       "\n",
       "  passenger_sex passenger_survived  \n",
       "0             M                  N  \n",
       "1             F                  Y  \n",
       "2             F                  Y  \n",
       "3             F                  Y  \n",
       "4             M                  N  "
      ],
      "text/html": "<div>\n<style scoped>\n    .dataframe tbody tr th:only-of-type {\n        vertical-align: middle;\n    }\n\n    .dataframe tbody tr th {\n        vertical-align: top;\n    }\n\n    .dataframe thead th {\n        text-align: right;\n    }\n</style>\n<table border=\"1\" class=\"dataframe\">\n  <thead>\n    <tr style=\"text-align: right;\">\n      <th></th>\n      <th>PassengerId</th>\n      <th>Name</th>\n      <th>Age</th>\n      <th>SibSp</th>\n      <th>Parch</th>\n      <th>Ticket</th>\n      <th>Fare</th>\n      <th>Cabin</th>\n      <th>Embarked</th>\n      <th>passenger_class</th>\n      <th>passenger_sex</th>\n      <th>passenger_survived</th>\n    </tr>\n  </thead>\n  <tbody>\n    <tr>\n      <th>0</th>\n      <td>1</td>\n      <td>Braund, Mr. Owen Harris</td>\n      <td>22.0</td>\n      <td>1</td>\n      <td>0</td>\n      <td>A/5 21171</td>\n      <td>7.2500</td>\n      <td>NaN</td>\n      <td>S</td>\n      <td>Lower</td>\n      <td>M</td>\n      <td>N</td>\n    </tr>\n    <tr>\n      <th>1</th>\n      <td>2</td>\n      <td>Cumings, Mrs. John Bradley (Florence Briggs Th...</td>\n      <td>38.0</td>\n      <td>1</td>\n      <td>0</td>\n      <td>PC 17599</td>\n      <td>71.2833</td>\n      <td>C85</td>\n      <td>C</td>\n      <td>Upper</td>\n      <td>F</td>\n      <td>Y</td>\n    </tr>\n    <tr>\n      <th>2</th>\n      <td>3</td>\n      <td>Heikkinen, Miss. Laina</td>\n      <td>26.0</td>\n      <td>0</td>\n      <td>0</td>\n      <td>STON/O2. 3101282</td>\n      <td>7.9250</td>\n      <td>NaN</td>\n      <td>S</td>\n      <td>Lower</td>\n      <td>F</td>\n      <td>Y</td>\n    </tr>\n    <tr>\n      <th>3</th>\n      <td>4</td>\n      <td>Futrelle, Mrs. Jacques Heath (Lily May Peel)</td>\n      <td>35.0</td>\n      <td>1</td>\n      <td>0</td>\n      <td>113803</td>\n      <td>53.1000</td>\n      <td>C123</td>\n      <td>S</td>\n      <td>Upper</td>\n      <td>F</td>\n      <td>Y</td>\n    </tr>\n    <tr>\n      <th>4</th>\n      <td>5</td>\n      <td>Allen, Mr. William Henry</td>\n      <td>35.0</td>\n      <td>0</td>\n      <td>0</td>\n      <td>373450</td>\n      <td>8.0500</td>\n      <td>NaN</td>\n      <td>S</td>\n      <td>Lower</td>\n      <td>M</td>\n      <td>N</td>\n    </tr>\n  </tbody>\n</table>\n</div>"
     },
     "metadata": {},
     "execution_count": 4
    }
   ],
   "source": [
    "data = pd.read_csv('./input/data_titanic_proyecto.csv')\n",
    "data.head()"
   ]
  },
  {
   "cell_type": "code",
   "execution_count": 5,
   "metadata": {},
   "outputs": [],
   "source": [
    "#Train test split\n",
    "X_train, X_test, y_train, y_test = train_test_split(data.iloc[:, :-1], data[['passenger_survived']], test_size = 0.2, random_state = 123)"
   ]
  },
  {
   "cell_type": "code",
   "execution_count": 6,
   "metadata": {},
   "outputs": [
    {
     "output_type": "stream",
     "name": "stdout",
     "text": [
      "Original data:  (891, 12)\nXtrain:  (712, 11)\nXtest:  (179, 11)\nYtrain:  (712, 1)\nYtest:  (179, 1)\n"
     ]
    }
   ],
   "source": [
    "print('Original data: ', data.shape)\n",
    "print('Xtrain: ', X_train.shape)\n",
    "print('Xtest: ', X_test.shape)\n",
    "print('Ytrain: ', y_train.shape)\n",
    "print('Ytest: ', y_test.shape)"
   ]
  },
  {
   "source": [
    "### Preparación de los datos"
   ],
   "cell_type": "markdown",
   "metadata": {}
  },
  {
   "cell_type": "code",
   "execution_count": 7,
   "metadata": {},
   "outputs": [
    {
     "output_type": "execute_result",
     "data": {
      "text/plain": [
       "     PassengerId                             Name   Age  SibSp  Parch  \\\n",
       "329          330     Hippach, Miss. Jean Gertrude  16.0      0      1   \n",
       "749          750          Connaghton, Mr. Michael  31.0      0      0   \n",
       "203          204             Youseff, Mr. Gerious  45.5      0      0   \n",
       "421          422              Charters, Mr. David  21.0      0      0   \n",
       "97            98  Greenfield, Mr. William Bertram  23.0      0      1   \n",
       "\n",
       "         Ticket     Fare    Cabin Embarked passenger_class passenger_sex  \n",
       "329      111361  57.9792      B18        C           Upper             F  \n",
       "749      335097   7.7500      NaN        Q           Lower             M  \n",
       "203        2628   7.2250      NaN        C           Lower             M  \n",
       "421  A/5. 13032   7.7333      NaN        Q           Lower             M  \n",
       "97     PC 17759  63.3583  D10 D12        C           Upper             M  "
      ],
      "text/html": "<div>\n<style scoped>\n    .dataframe tbody tr th:only-of-type {\n        vertical-align: middle;\n    }\n\n    .dataframe tbody tr th {\n        vertical-align: top;\n    }\n\n    .dataframe thead th {\n        text-align: right;\n    }\n</style>\n<table border=\"1\" class=\"dataframe\">\n  <thead>\n    <tr style=\"text-align: right;\">\n      <th></th>\n      <th>PassengerId</th>\n      <th>Name</th>\n      <th>Age</th>\n      <th>SibSp</th>\n      <th>Parch</th>\n      <th>Ticket</th>\n      <th>Fare</th>\n      <th>Cabin</th>\n      <th>Embarked</th>\n      <th>passenger_class</th>\n      <th>passenger_sex</th>\n    </tr>\n  </thead>\n  <tbody>\n    <tr>\n      <th>329</th>\n      <td>330</td>\n      <td>Hippach, Miss. Jean Gertrude</td>\n      <td>16.0</td>\n      <td>0</td>\n      <td>1</td>\n      <td>111361</td>\n      <td>57.9792</td>\n      <td>B18</td>\n      <td>C</td>\n      <td>Upper</td>\n      <td>F</td>\n    </tr>\n    <tr>\n      <th>749</th>\n      <td>750</td>\n      <td>Connaghton, Mr. Michael</td>\n      <td>31.0</td>\n      <td>0</td>\n      <td>0</td>\n      <td>335097</td>\n      <td>7.7500</td>\n      <td>NaN</td>\n      <td>Q</td>\n      <td>Lower</td>\n      <td>M</td>\n    </tr>\n    <tr>\n      <th>203</th>\n      <td>204</td>\n      <td>Youseff, Mr. Gerious</td>\n      <td>45.5</td>\n      <td>0</td>\n      <td>0</td>\n      <td>2628</td>\n      <td>7.2250</td>\n      <td>NaN</td>\n      <td>C</td>\n      <td>Lower</td>\n      <td>M</td>\n    </tr>\n    <tr>\n      <th>421</th>\n      <td>422</td>\n      <td>Charters, Mr. David</td>\n      <td>21.0</td>\n      <td>0</td>\n      <td>0</td>\n      <td>A/5. 13032</td>\n      <td>7.7333</td>\n      <td>NaN</td>\n      <td>Q</td>\n      <td>Lower</td>\n      <td>M</td>\n    </tr>\n    <tr>\n      <th>97</th>\n      <td>98</td>\n      <td>Greenfield, Mr. William Bertram</td>\n      <td>23.0</td>\n      <td>0</td>\n      <td>1</td>\n      <td>PC 17759</td>\n      <td>63.3583</td>\n      <td>D10 D12</td>\n      <td>C</td>\n      <td>Upper</td>\n      <td>M</td>\n    </tr>\n  </tbody>\n</table>\n</div>"
     },
     "metadata": {},
     "execution_count": 7
    }
   ],
   "source": [
    "X_train.head()"
   ]
  },
  {
   "source": [
    "De todas las columnas disponibles Age, Cabin y Embarked presentan valores nulos. Dado que en las primeras dos columnas mencionadas el porcentaje es mayor a un 5% no es recomendable realizar imputación de los datos, por lo cual serán removidas del dataset. "
   ],
   "cell_type": "markdown",
   "metadata": {}
  },
  {
   "source": [
    "X_train.merge(y_train, left_index = True, right_index = True).isna().sum() / len(X_train)"
   ],
   "cell_type": "code",
   "metadata": {},
   "execution_count": 8,
   "outputs": [
    {
     "output_type": "execute_result",
     "data": {
      "text/plain": [
       "PassengerId           0.000000\n",
       "Name                  0.000000\n",
       "Age                   0.207865\n",
       "SibSp                 0.000000\n",
       "Parch                 0.000000\n",
       "Ticket                0.000000\n",
       "Fare                  0.000000\n",
       "Cabin                 0.780899\n",
       "Embarked              0.002809\n",
       "passenger_class       0.000000\n",
       "passenger_sex         0.000000\n",
       "passenger_survived    0.000000\n",
       "dtype: float64"
      ]
     },
     "metadata": {},
     "execution_count": 8
    }
   ]
  },
  {
   "cell_type": "code",
   "execution_count": 9,
   "metadata": {},
   "outputs": [],
   "source": [
    "X_train.dropna(axis = 1, how = 'any', inplace = True)"
   ]
  },
  {
   "source": [
    "La codificación de variables categóricas determina las pocas clases presentes tanto para passenger_sex por lo que se usara OHE k-1, en el caso de passenger_class al ser una variable ordinal se aplicara ordinal encoding, lo cual evita la expansión del número de features y toma ventaja del orden mostrado en la variable. "
   ],
   "cell_type": "markdown",
   "metadata": {}
  },
  {
   "cell_type": "code",
   "execution_count": 10,
   "metadata": {},
   "outputs": [
    {
     "output_type": "execute_result",
     "data": {
      "text/plain": [
       "OrdinalEncoder()"
      ]
     },
     "metadata": {},
     "execution_count": 10
    }
   ],
   "source": [
    "enc = OrdinalEncoder()\n",
    "pclass = np.sort(X_train.passenger_class.unique())\n",
    "pclass = np.expand_dims(pclass, axis = 1)\n",
    "enc.fit(pclass)"
   ]
  },
  {
   "cell_type": "code",
   "execution_count": 11,
   "metadata": {},
   "outputs": [
    {
     "output_type": "execute_result",
     "data": {
      "text/plain": [
       "     PassengerId                             Name  SibSp  Parch      Ticket  \\\n",
       "329          330     Hippach, Miss. Jean Gertrude      0      1      111361   \n",
       "749          750          Connaghton, Mr. Michael      0      0      335097   \n",
       "203          204             Youseff, Mr. Gerious      0      0        2628   \n",
       "421          422              Charters, Mr. David      0      0  A/5. 13032   \n",
       "97            98  Greenfield, Mr. William Bertram      0      1    PC 17759   \n",
       "\n",
       "        Fare  passenger_class passenger_sex  \n",
       "329  57.9792              2.0             F  \n",
       "749   7.7500              0.0             M  \n",
       "203   7.2250              0.0             M  \n",
       "421   7.7333              0.0             M  \n",
       "97   63.3583              2.0             M  "
      ],
      "text/html": "<div>\n<style scoped>\n    .dataframe tbody tr th:only-of-type {\n        vertical-align: middle;\n    }\n\n    .dataframe tbody tr th {\n        vertical-align: top;\n    }\n\n    .dataframe thead th {\n        text-align: right;\n    }\n</style>\n<table border=\"1\" class=\"dataframe\">\n  <thead>\n    <tr style=\"text-align: right;\">\n      <th></th>\n      <th>PassengerId</th>\n      <th>Name</th>\n      <th>SibSp</th>\n      <th>Parch</th>\n      <th>Ticket</th>\n      <th>Fare</th>\n      <th>passenger_class</th>\n      <th>passenger_sex</th>\n    </tr>\n  </thead>\n  <tbody>\n    <tr>\n      <th>329</th>\n      <td>330</td>\n      <td>Hippach, Miss. Jean Gertrude</td>\n      <td>0</td>\n      <td>1</td>\n      <td>111361</td>\n      <td>57.9792</td>\n      <td>2.0</td>\n      <td>F</td>\n    </tr>\n    <tr>\n      <th>749</th>\n      <td>750</td>\n      <td>Connaghton, Mr. Michael</td>\n      <td>0</td>\n      <td>0</td>\n      <td>335097</td>\n      <td>7.7500</td>\n      <td>0.0</td>\n      <td>M</td>\n    </tr>\n    <tr>\n      <th>203</th>\n      <td>204</td>\n      <td>Youseff, Mr. Gerious</td>\n      <td>0</td>\n      <td>0</td>\n      <td>2628</td>\n      <td>7.2250</td>\n      <td>0.0</td>\n      <td>M</td>\n    </tr>\n    <tr>\n      <th>421</th>\n      <td>422</td>\n      <td>Charters, Mr. David</td>\n      <td>0</td>\n      <td>0</td>\n      <td>A/5. 13032</td>\n      <td>7.7333</td>\n      <td>0.0</td>\n      <td>M</td>\n    </tr>\n    <tr>\n      <th>97</th>\n      <td>98</td>\n      <td>Greenfield, Mr. William Bertram</td>\n      <td>0</td>\n      <td>1</td>\n      <td>PC 17759</td>\n      <td>63.3583</td>\n      <td>2.0</td>\n      <td>M</td>\n    </tr>\n  </tbody>\n</table>\n</div>"
     },
     "metadata": {},
     "execution_count": 11
    }
   ],
   "source": [
    "X_train['passenger_class'] = enc.transform(X_train[['passenger_class']])\n",
    "X_train.head()"
   ]
  },
  {
   "cell_type": "code",
   "execution_count": 12,
   "metadata": {},
   "outputs": [
    {
     "output_type": "execute_result",
     "data": {
      "text/plain": [
       "array(['F', 'M'], dtype=object)"
      ]
     },
     "metadata": {},
     "execution_count": 12
    }
   ],
   "source": [
    "X_train['passenger_sex'].unique()"
   ]
  },
  {
   "cell_type": "code",
   "execution_count": 13,
   "metadata": {},
   "outputs": [],
   "source": [
    "X_train['isFemale'] = np.where(X_train['passenger_sex'] == 'F', 1, 0)"
   ]
  },
  {
   "cell_type": "code",
   "execution_count": 14,
   "metadata": {},
   "outputs": [
    {
     "output_type": "execute_result",
     "data": {
      "text/plain": [
       "     SibSp  Parch     Fare  passenger_class  isFemale\n",
       "329      0      1  57.9792              2.0         1\n",
       "749      0      0   7.7500              0.0         0\n",
       "203      0      0   7.2250              0.0         0\n",
       "421      0      0   7.7333              0.0         0\n",
       "97       0      1  63.3583              2.0         0"
      ],
      "text/html": "<div>\n<style scoped>\n    .dataframe tbody tr th:only-of-type {\n        vertical-align: middle;\n    }\n\n    .dataframe tbody tr th {\n        vertical-align: top;\n    }\n\n    .dataframe thead th {\n        text-align: right;\n    }\n</style>\n<table border=\"1\" class=\"dataframe\">\n  <thead>\n    <tr style=\"text-align: right;\">\n      <th></th>\n      <th>SibSp</th>\n      <th>Parch</th>\n      <th>Fare</th>\n      <th>passenger_class</th>\n      <th>isFemale</th>\n    </tr>\n  </thead>\n  <tbody>\n    <tr>\n      <th>329</th>\n      <td>0</td>\n      <td>1</td>\n      <td>57.9792</td>\n      <td>2.0</td>\n      <td>1</td>\n    </tr>\n    <tr>\n      <th>749</th>\n      <td>0</td>\n      <td>0</td>\n      <td>7.7500</td>\n      <td>0.0</td>\n      <td>0</td>\n    </tr>\n    <tr>\n      <th>203</th>\n      <td>0</td>\n      <td>0</td>\n      <td>7.2250</td>\n      <td>0.0</td>\n      <td>0</td>\n    </tr>\n    <tr>\n      <th>421</th>\n      <td>0</td>\n      <td>0</td>\n      <td>7.7333</td>\n      <td>0.0</td>\n      <td>0</td>\n    </tr>\n    <tr>\n      <th>97</th>\n      <td>0</td>\n      <td>1</td>\n      <td>63.3583</td>\n      <td>2.0</td>\n      <td>0</td>\n    </tr>\n  </tbody>\n</table>\n</div>"
     },
     "metadata": {},
     "execution_count": 14
    }
   ],
   "source": [
    "X_train.drop(['PassengerId', 'Name', 'Ticket', 'passenger_sex'], axis = 1, inplace = True)\n",
    "X_train.head()"
   ]
  },
  {
   "cell_type": "code",
   "execution_count": 15,
   "metadata": {},
   "outputs": [
    {
     "output_type": "execute_result",
     "data": {
      "text/plain": [
       "     passenger_survived\n",
       "329                   1\n",
       "749                   0\n",
       "203                   0\n",
       "421                   0\n",
       "97                    1"
      ],
      "text/html": "<div>\n<style scoped>\n    .dataframe tbody tr th:only-of-type {\n        vertical-align: middle;\n    }\n\n    .dataframe tbody tr th {\n        vertical-align: top;\n    }\n\n    .dataframe thead th {\n        text-align: right;\n    }\n</style>\n<table border=\"1\" class=\"dataframe\">\n  <thead>\n    <tr style=\"text-align: right;\">\n      <th></th>\n      <th>passenger_survived</th>\n    </tr>\n  </thead>\n  <tbody>\n    <tr>\n      <th>329</th>\n      <td>1</td>\n    </tr>\n    <tr>\n      <th>749</th>\n      <td>0</td>\n    </tr>\n    <tr>\n      <th>203</th>\n      <td>0</td>\n    </tr>\n    <tr>\n      <th>421</th>\n      <td>0</td>\n    </tr>\n    <tr>\n      <th>97</th>\n      <td>1</td>\n    </tr>\n  </tbody>\n</table>\n</div>"
     },
     "metadata": {},
     "execution_count": 15
    }
   ],
   "source": [
    "y_train['passenger_survived'] = np.where(y_train['passenger_survived'] == 'Y', 1, 0)\n",
    "y_train.head()"
   ]
  },
  {
   "source": [
    "Finalmente se realiza el escalado de las variables para mantenerlas entre 0 y 1, con el fin de facilitar a los algoritmos de GD a converger"
   ],
   "cell_type": "markdown",
   "metadata": {}
  },
  {
   "cell_type": "code",
   "execution_count": 16,
   "metadata": {},
   "outputs": [
    {
     "output_type": "execute_result",
     "data": {
      "text/plain": [
       "     SibSp  Parch      Fare  passenger_class  isFemale\n",
       "329    0.0    0.2  0.113168              1.0         1\n",
       "749    0.0    0.0  0.015127              0.0         0\n",
       "203    0.0    0.0  0.014102              0.0         0\n",
       "421    0.0    0.0  0.015094              0.0         0\n",
       "97     0.0    0.2  0.123667              1.0         0"
      ],
      "text/html": "<div>\n<style scoped>\n    .dataframe tbody tr th:only-of-type {\n        vertical-align: middle;\n    }\n\n    .dataframe tbody tr th {\n        vertical-align: top;\n    }\n\n    .dataframe thead th {\n        text-align: right;\n    }\n</style>\n<table border=\"1\" class=\"dataframe\">\n  <thead>\n    <tr style=\"text-align: right;\">\n      <th></th>\n      <th>SibSp</th>\n      <th>Parch</th>\n      <th>Fare</th>\n      <th>passenger_class</th>\n      <th>isFemale</th>\n    </tr>\n  </thead>\n  <tbody>\n    <tr>\n      <th>329</th>\n      <td>0.0</td>\n      <td>0.2</td>\n      <td>0.113168</td>\n      <td>1.0</td>\n      <td>1</td>\n    </tr>\n    <tr>\n      <th>749</th>\n      <td>0.0</td>\n      <td>0.0</td>\n      <td>0.015127</td>\n      <td>0.0</td>\n      <td>0</td>\n    </tr>\n    <tr>\n      <th>203</th>\n      <td>0.0</td>\n      <td>0.0</td>\n      <td>0.014102</td>\n      <td>0.0</td>\n      <td>0</td>\n    </tr>\n    <tr>\n      <th>421</th>\n      <td>0.0</td>\n      <td>0.0</td>\n      <td>0.015094</td>\n      <td>0.0</td>\n      <td>0</td>\n    </tr>\n    <tr>\n      <th>97</th>\n      <td>0.0</td>\n      <td>0.2</td>\n      <td>0.123667</td>\n      <td>1.0</td>\n      <td>0</td>\n    </tr>\n  </tbody>\n</table>\n</div>"
     },
     "metadata": {},
     "execution_count": 16
    }
   ],
   "source": [
    "scaler = MinMaxScaler()\n",
    "X_train.iloc[:, :-1] = scaler.fit_transform(X_train.iloc[:, :-1].values)\n",
    "X_train.head()"
   ]
  },
  {
   "cell_type": "code",
   "execution_count": 17,
   "metadata": {},
   "outputs": [],
   "source": [
    "#Train validation split\n",
    "X_train, X_val, y_train, y_val = train_test_split(X_train, y_train, test_size = 0.2, random_state = 123)"
   ]
  },
  {
   "cell_type": "code",
   "execution_count": 18,
   "metadata": {},
   "outputs": [
    {
     "output_type": "stream",
     "name": "stdout",
     "text": [
      "Xtrain:  (569, 5)\nXval:  (143, 5)\nYtrain:  (569, 1)\nYval:  (143, 1)\n"
     ]
    }
   ],
   "source": [
    "print('Xtrain: ', X_train.shape)\n",
    "print('Xval: ', X_val.shape)\n",
    "print('Ytrain: ', y_train.shape)\n",
    "print('Yval: ', y_val.shape)"
   ]
  },
  {
   "source": [
    "### Funciones Auxiliares"
   ],
   "cell_type": "markdown",
   "metadata": {}
  },
  {
   "cell_type": "code",
   "execution_count": 40,
   "metadata": {},
   "outputs": [],
   "source": [
    "def getMetrics(config_str, y, yhat):\n",
    "    model_metrics = dict()\n",
    "    model_metrics['model'] = config_str\n",
    "    model_metrics['accuracy'] = np.round(metrics.accuracy_score(y, yhat), 4)\n",
    "    model_metrics['error'] = 1 - model_metrics['accuracy']\n",
    "    model_metrics['precision'] = np.round(metrics.precision_score(y, yhat), 4)\n",
    "    model_metrics['recall'] = np.round(metrics.recall_score(y, yhat), 4)\n",
    "    model_metrics['f1-score'] = np.round(metrics.f1_score(y, yhat), 4)\n",
    "\n",
    "    return pd.DataFrame(data = model_metrics, index = [0])"
   ]
  },
  {
   "cell_type": "code",
   "execution_count": 42,
   "metadata": {},
   "outputs": [],
   "source": [
    "def writeModelResults(results, model, save_type = 'sklearn'):\n",
    "    \n",
    "    results.to_csv('./results/model_results.csv', mode = 'a', header = False, index = False)\n",
    "    if save_type == 'sklearn':\n",
    "        model_path = './models/' + results['model'].values[0] + '.joblib'\n",
    "        dump(model, model_path) \n",
    "    else:\n",
    "        pass\n",
    "\n",
    "    print('Model results saved succesfully')\n",
    "    return "
   ]
  },
  {
   "source": [
    "### Definición de Modelos"
   ],
   "cell_type": "markdown",
   "metadata": {}
  },
  {
   "cell_type": "code",
   "execution_count": 21,
   "metadata": {},
   "outputs": [],
   "source": [
    "def train_decisionTree(x, y, depth = None):\n",
    "    \n",
    "    #Define model training\n",
    "    clf = tree.DecisionTreeClassifier(criterion = 'entropy', max_depth = depth)\n",
    "    clf = clf.fit(x.values, y.values)\n",
    "\n",
    "    #Define configuration string\n",
    "    features = '_'.join(list(x.columns))\n",
    "    config_str = 'decisionTree_criterion=entropy__' + features\n",
    "    \n",
    "    return clf, config_str\n",
    "    #tree.plot_tree(clf)"
   ]
  },
  {
   "cell_type": "code",
   "execution_count": 56,
   "metadata": {},
   "outputs": [],
   "source": [
    "def train_SVM(x, y, c = 1, kernel = 'rbf'):\n",
    "    \n",
    "    #Define model training\n",
    "    clf = svm.SVC()\n",
    "    clf = clf.fit(x.values, np.squeeze(y.values, axis = 1))\n",
    "\n",
    "    #Define configuration string\n",
    "    features = '_'.join(list(x.columns))\n",
    "    config_str = 'SVM_C={}_kernel={}__'.format(c, kernel) + features\n",
    "    \n",
    "    return clf, config_str\n"
   ]
  },
  {
   "cell_type": "code",
   "execution_count": null,
   "metadata": {},
   "outputs": [],
   "source": []
  },
  {
   "source": [
    "### Predicciones"
   ],
   "cell_type": "markdown",
   "metadata": {}
  },
  {
   "cell_type": "code",
   "execution_count": 57,
   "metadata": {},
   "outputs": [],
   "source": [
    "model, config_str = train_SVM(X_train, y_train)"
   ]
  },
  {
   "cell_type": "code",
   "execution_count": 58,
   "metadata": {},
   "outputs": [
    {
     "output_type": "execute_result",
     "data": {
      "text/plain": [
       "array([0, 0, 1, 1, 0, 0, 0, 0, 0, 1, 0, 1, 1, 0, 0, 0, 0, 1, 0, 0, 1, 1,\n",
       "       0, 1, 1, 1, 0, 1, 0, 1, 0, 1, 0, 0, 0, 1, 0, 0, 1, 1, 0, 1, 0, 0,\n",
       "       0, 1, 0, 0, 0, 1, 0, 0, 0, 0, 0, 0, 0, 1, 1, 0, 0, 0, 0, 1, 1, 0,\n",
       "       1, 0, 0, 0, 0, 0, 0, 0, 1, 0, 1, 1, 0, 1, 0, 0, 0, 1, 0, 0, 1, 1,\n",
       "       0, 0, 0, 0, 0, 1, 0, 0, 1, 1, 0, 0, 0, 0, 0, 0, 0, 1, 0, 1, 0, 0,\n",
       "       0, 0, 0, 0, 0, 1, 0, 0, 0, 1, 0, 1, 0, 0, 0, 1, 0, 0, 1, 0, 1, 0,\n",
       "       0, 0, 1, 0, 0, 0, 1, 0, 0, 0, 0])"
      ]
     },
     "metadata": {},
     "execution_count": 58
    }
   ],
   "source": [
    "y_pred = model.predict(X_val)\n",
    "y_pred"
   ]
  },
  {
   "cell_type": "code",
   "execution_count": 59,
   "metadata": {},
   "outputs": [
    {
     "output_type": "execute_result",
     "data": {
      "text/plain": [
       "                                               model  accuracy   error  \\\n",
       "0  SVM_C=1_kernel=rbf__SibSp_Parch_Fare_passenger...    0.8322  0.1678   \n",
       "\n",
       "   precision  recall  f1-score  \n",
       "0     0.8222  0.6981    0.7551  "
      ],
      "text/html": "<div>\n<style scoped>\n    .dataframe tbody tr th:only-of-type {\n        vertical-align: middle;\n    }\n\n    .dataframe tbody tr th {\n        vertical-align: top;\n    }\n\n    .dataframe thead th {\n        text-align: right;\n    }\n</style>\n<table border=\"1\" class=\"dataframe\">\n  <thead>\n    <tr style=\"text-align: right;\">\n      <th></th>\n      <th>model</th>\n      <th>accuracy</th>\n      <th>error</th>\n      <th>precision</th>\n      <th>recall</th>\n      <th>f1-score</th>\n    </tr>\n  </thead>\n  <tbody>\n    <tr>\n      <th>0</th>\n      <td>SVM_C=1_kernel=rbf__SibSp_Parch_Fare_passenger...</td>\n      <td>0.8322</td>\n      <td>0.1678</td>\n      <td>0.8222</td>\n      <td>0.6981</td>\n      <td>0.7551</td>\n    </tr>\n  </tbody>\n</table>\n</div>"
     },
     "metadata": {},
     "execution_count": 59
    }
   ],
   "source": [
    "model_metrics = getMetrics(config_str, y_val.values, y_pred)\n",
    "model_metrics"
   ]
  },
  {
   "cell_type": "code",
   "execution_count": 60,
   "metadata": {},
   "outputs": [
    {
     "output_type": "execute_result",
     "data": {
      "text/plain": [
       "'SVM_C=1_kernel=rbf__SibSp_Parch_Fare_passenger_class_isFemale'"
      ]
     },
     "metadata": {},
     "execution_count": 60
    }
   ],
   "source": [
    "model_metrics['model'].values[0]"
   ]
  },
  {
   "cell_type": "code",
   "execution_count": 61,
   "metadata": {},
   "outputs": [
    {
     "output_type": "stream",
     "name": "stdout",
     "text": [
      "Model results saved succesfully\n"
     ]
    }
   ],
   "source": [
    "writeModelResults(model_metrics, model, save_type = 'sklearn')"
   ]
  }
 ]
}